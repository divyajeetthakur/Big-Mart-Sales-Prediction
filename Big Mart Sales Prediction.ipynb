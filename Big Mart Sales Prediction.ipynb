{
 "cells": [
  {
   "cell_type": "code",
   "execution_count": 4,
   "metadata": {},
   "outputs": [],
   "source": [
    "import pandas as pd\n",
    "import numpy as np\n",
    "import matplotlib.pyplot as plt\n",
    "import seaborn as sns\n",
    "pd.set_option('display.max_columns',None)"
   ]
  },
  {
   "cell_type": "code",
   "execution_count": 5,
   "metadata": {},
   "outputs": [],
   "source": [
    "df = pd.read_csv('train.csv')\n",
    "dftest = pd.read_csv('test.csv')"
   ]
  },
  {
   "cell_type": "code",
   "execution_count": 6,
   "metadata": {},
   "outputs": [
    {
     "data": {
      "text/html": [
       "<div>\n",
       "<style scoped>\n",
       "    .dataframe tbody tr th:only-of-type {\n",
       "        vertical-align: middle;\n",
       "    }\n",
       "\n",
       "    .dataframe tbody tr th {\n",
       "        vertical-align: top;\n",
       "    }\n",
       "\n",
       "    .dataframe thead th {\n",
       "        text-align: right;\n",
       "    }\n",
       "</style>\n",
       "<table border=\"1\" class=\"dataframe\">\n",
       "  <thead>\n",
       "    <tr style=\"text-align: right;\">\n",
       "      <th></th>\n",
       "      <th>Item_Identifier</th>\n",
       "      <th>Item_Weight</th>\n",
       "      <th>Item_Fat_Content</th>\n",
       "      <th>Item_Visibility</th>\n",
       "      <th>Item_Type</th>\n",
       "      <th>Item_MRP</th>\n",
       "      <th>Outlet_Identifier</th>\n",
       "      <th>Outlet_Establishment_Year</th>\n",
       "      <th>Outlet_Size</th>\n",
       "      <th>Outlet_Location_Type</th>\n",
       "      <th>Outlet_Type</th>\n",
       "      <th>Item_Outlet_Sales</th>\n",
       "    </tr>\n",
       "  </thead>\n",
       "  <tbody>\n",
       "    <tr>\n",
       "      <th>0</th>\n",
       "      <td>FDA15</td>\n",
       "      <td>9.30</td>\n",
       "      <td>Low Fat</td>\n",
       "      <td>0.016047</td>\n",
       "      <td>Dairy</td>\n",
       "      <td>249.8092</td>\n",
       "      <td>OUT049</td>\n",
       "      <td>1999</td>\n",
       "      <td>Medium</td>\n",
       "      <td>Tier 1</td>\n",
       "      <td>Supermarket Type1</td>\n",
       "      <td>3735.1380</td>\n",
       "    </tr>\n",
       "    <tr>\n",
       "      <th>1</th>\n",
       "      <td>DRC01</td>\n",
       "      <td>5.92</td>\n",
       "      <td>Regular</td>\n",
       "      <td>0.019278</td>\n",
       "      <td>Soft Drinks</td>\n",
       "      <td>48.2692</td>\n",
       "      <td>OUT018</td>\n",
       "      <td>2009</td>\n",
       "      <td>Medium</td>\n",
       "      <td>Tier 3</td>\n",
       "      <td>Supermarket Type2</td>\n",
       "      <td>443.4228</td>\n",
       "    </tr>\n",
       "    <tr>\n",
       "      <th>2</th>\n",
       "      <td>FDN15</td>\n",
       "      <td>17.50</td>\n",
       "      <td>Low Fat</td>\n",
       "      <td>0.016760</td>\n",
       "      <td>Meat</td>\n",
       "      <td>141.6180</td>\n",
       "      <td>OUT049</td>\n",
       "      <td>1999</td>\n",
       "      <td>Medium</td>\n",
       "      <td>Tier 1</td>\n",
       "      <td>Supermarket Type1</td>\n",
       "      <td>2097.2700</td>\n",
       "    </tr>\n",
       "    <tr>\n",
       "      <th>3</th>\n",
       "      <td>FDX07</td>\n",
       "      <td>19.20</td>\n",
       "      <td>Regular</td>\n",
       "      <td>0.000000</td>\n",
       "      <td>Fruits and Vegetables</td>\n",
       "      <td>182.0950</td>\n",
       "      <td>OUT010</td>\n",
       "      <td>1998</td>\n",
       "      <td>NaN</td>\n",
       "      <td>Tier 3</td>\n",
       "      <td>Grocery Store</td>\n",
       "      <td>732.3800</td>\n",
       "    </tr>\n",
       "    <tr>\n",
       "      <th>4</th>\n",
       "      <td>NCD19</td>\n",
       "      <td>8.93</td>\n",
       "      <td>Low Fat</td>\n",
       "      <td>0.000000</td>\n",
       "      <td>Household</td>\n",
       "      <td>53.8614</td>\n",
       "      <td>OUT013</td>\n",
       "      <td>1987</td>\n",
       "      <td>High</td>\n",
       "      <td>Tier 3</td>\n",
       "      <td>Supermarket Type1</td>\n",
       "      <td>994.7052</td>\n",
       "    </tr>\n",
       "  </tbody>\n",
       "</table>\n",
       "</div>"
      ],
      "text/plain": [
       "  Item_Identifier  Item_Weight Item_Fat_Content  Item_Visibility  \\\n",
       "0           FDA15         9.30          Low Fat         0.016047   \n",
       "1           DRC01         5.92          Regular         0.019278   \n",
       "2           FDN15        17.50          Low Fat         0.016760   \n",
       "3           FDX07        19.20          Regular         0.000000   \n",
       "4           NCD19         8.93          Low Fat         0.000000   \n",
       "\n",
       "               Item_Type  Item_MRP Outlet_Identifier  \\\n",
       "0                  Dairy  249.8092            OUT049   \n",
       "1            Soft Drinks   48.2692            OUT018   \n",
       "2                   Meat  141.6180            OUT049   \n",
       "3  Fruits and Vegetables  182.0950            OUT010   \n",
       "4              Household   53.8614            OUT013   \n",
       "\n",
       "   Outlet_Establishment_Year Outlet_Size Outlet_Location_Type  \\\n",
       "0                       1999      Medium               Tier 1   \n",
       "1                       2009      Medium               Tier 3   \n",
       "2                       1999      Medium               Tier 1   \n",
       "3                       1998         NaN               Tier 3   \n",
       "4                       1987        High               Tier 3   \n",
       "\n",
       "         Outlet_Type  Item_Outlet_Sales  \n",
       "0  Supermarket Type1          3735.1380  \n",
       "1  Supermarket Type2           443.4228  \n",
       "2  Supermarket Type1          2097.2700  \n",
       "3      Grocery Store           732.3800  \n",
       "4  Supermarket Type1           994.7052  "
      ]
     },
     "execution_count": 6,
     "metadata": {},
     "output_type": "execute_result"
    }
   ],
   "source": [
    "df.head()"
   ]
  },
  {
   "cell_type": "code",
   "execution_count": 7,
   "metadata": {
    "scrolled": true
   },
   "outputs": [
    {
     "name": "stdout",
     "output_type": "stream",
     "text": [
      "<class 'pandas.core.frame.DataFrame'>\n",
      "RangeIndex: 8523 entries, 0 to 8522\n",
      "Data columns (total 12 columns):\n",
      " #   Column                     Non-Null Count  Dtype  \n",
      "---  ------                     --------------  -----  \n",
      " 0   Item_Identifier            8523 non-null   object \n",
      " 1   Item_Weight                7060 non-null   float64\n",
      " 2   Item_Fat_Content           8523 non-null   object \n",
      " 3   Item_Visibility            8523 non-null   float64\n",
      " 4   Item_Type                  8523 non-null   object \n",
      " 5   Item_MRP                   8523 non-null   float64\n",
      " 6   Outlet_Identifier          8523 non-null   object \n",
      " 7   Outlet_Establishment_Year  8523 non-null   int64  \n",
      " 8   Outlet_Size                6113 non-null   object \n",
      " 9   Outlet_Location_Type       8523 non-null   object \n",
      " 10  Outlet_Type                8523 non-null   object \n",
      " 11  Item_Outlet_Sales          8523 non-null   float64\n",
      "dtypes: float64(4), int64(1), object(7)\n",
      "memory usage: 799.2+ KB\n"
     ]
    }
   ],
   "source": [
    "# Type of Data\n",
    "df.info()"
   ]
  },
  {
   "cell_type": "code",
   "execution_count": 8,
   "metadata": {},
   "outputs": [
    {
     "data": {
      "text/plain": [
       "Item_Identifier              1559\n",
       "Item_Weight                   415\n",
       "Item_Fat_Content                5\n",
       "Item_Visibility              7880\n",
       "Item_Type                      16\n",
       "Item_MRP                     5938\n",
       "Outlet_Identifier              10\n",
       "Outlet_Establishment_Year       9\n",
       "Outlet_Size                     3\n",
       "Outlet_Location_Type            3\n",
       "Outlet_Type                     4\n",
       "Item_Outlet_Sales            3493\n",
       "dtype: int64"
      ]
     },
     "execution_count": 8,
     "metadata": {},
     "output_type": "execute_result"
    }
   ],
   "source": [
    "# Unique values in each column\n",
    "df.nunique()"
   ]
  },
  {
   "cell_type": "code",
   "execution_count": 9,
   "metadata": {},
   "outputs": [
    {
     "data": {
      "text/html": [
       "<div>\n",
       "<style scoped>\n",
       "    .dataframe tbody tr th:only-of-type {\n",
       "        vertical-align: middle;\n",
       "    }\n",
       "\n",
       "    .dataframe tbody tr th {\n",
       "        vertical-align: top;\n",
       "    }\n",
       "\n",
       "    .dataframe thead th {\n",
       "        text-align: right;\n",
       "    }\n",
       "</style>\n",
       "<table border=\"1\" class=\"dataframe\">\n",
       "  <thead>\n",
       "    <tr style=\"text-align: right;\">\n",
       "      <th></th>\n",
       "      <th>count</th>\n",
       "      <th>mean</th>\n",
       "      <th>std</th>\n",
       "      <th>min</th>\n",
       "      <th>25%</th>\n",
       "      <th>50%</th>\n",
       "      <th>75%</th>\n",
       "      <th>max</th>\n",
       "    </tr>\n",
       "  </thead>\n",
       "  <tbody>\n",
       "    <tr>\n",
       "      <th>Item_Weight</th>\n",
       "      <td>7060.0</td>\n",
       "      <td>12.857645</td>\n",
       "      <td>4.643456</td>\n",
       "      <td>4.555</td>\n",
       "      <td>8.773750</td>\n",
       "      <td>12.600000</td>\n",
       "      <td>16.850000</td>\n",
       "      <td>21.350000</td>\n",
       "    </tr>\n",
       "    <tr>\n",
       "      <th>Item_Visibility</th>\n",
       "      <td>8523.0</td>\n",
       "      <td>0.066132</td>\n",
       "      <td>0.051598</td>\n",
       "      <td>0.000</td>\n",
       "      <td>0.026989</td>\n",
       "      <td>0.053931</td>\n",
       "      <td>0.094585</td>\n",
       "      <td>0.328391</td>\n",
       "    </tr>\n",
       "    <tr>\n",
       "      <th>Item_MRP</th>\n",
       "      <td>8523.0</td>\n",
       "      <td>140.992782</td>\n",
       "      <td>62.275067</td>\n",
       "      <td>31.290</td>\n",
       "      <td>93.826500</td>\n",
       "      <td>143.012800</td>\n",
       "      <td>185.643700</td>\n",
       "      <td>266.888400</td>\n",
       "    </tr>\n",
       "    <tr>\n",
       "      <th>Outlet_Establishment_Year</th>\n",
       "      <td>8523.0</td>\n",
       "      <td>1997.831867</td>\n",
       "      <td>8.371760</td>\n",
       "      <td>1985.000</td>\n",
       "      <td>1987.000000</td>\n",
       "      <td>1999.000000</td>\n",
       "      <td>2004.000000</td>\n",
       "      <td>2009.000000</td>\n",
       "    </tr>\n",
       "    <tr>\n",
       "      <th>Item_Outlet_Sales</th>\n",
       "      <td>8523.0</td>\n",
       "      <td>2181.288914</td>\n",
       "      <td>1706.499616</td>\n",
       "      <td>33.290</td>\n",
       "      <td>834.247400</td>\n",
       "      <td>1794.331000</td>\n",
       "      <td>3101.296400</td>\n",
       "      <td>13086.964800</td>\n",
       "    </tr>\n",
       "  </tbody>\n",
       "</table>\n",
       "</div>"
      ],
      "text/plain": [
       "                            count         mean          std       min  \\\n",
       "Item_Weight                7060.0    12.857645     4.643456     4.555   \n",
       "Item_Visibility            8523.0     0.066132     0.051598     0.000   \n",
       "Item_MRP                   8523.0   140.992782    62.275067    31.290   \n",
       "Outlet_Establishment_Year  8523.0  1997.831867     8.371760  1985.000   \n",
       "Item_Outlet_Sales          8523.0  2181.288914  1706.499616    33.290   \n",
       "\n",
       "                                   25%          50%          75%           max  \n",
       "Item_Weight                   8.773750    12.600000    16.850000     21.350000  \n",
       "Item_Visibility               0.026989     0.053931     0.094585      0.328391  \n",
       "Item_MRP                     93.826500   143.012800   185.643700    266.888400  \n",
       "Outlet_Establishment_Year  1987.000000  1999.000000  2004.000000   2009.000000  \n",
       "Item_Outlet_Sales           834.247400  1794.331000  3101.296400  13086.964800  "
      ]
     },
     "execution_count": 9,
     "metadata": {},
     "output_type": "execute_result"
    }
   ],
   "source": [
    "df.describe().T"
   ]
  },
  {
   "cell_type": "markdown",
   "metadata": {},
   "source": [
    "## Data Cleaning"
   ]
  },
  {
   "cell_type": "code",
   "execution_count": 10,
   "metadata": {},
   "outputs": [
    {
     "name": "stdout",
     "output_type": "stream",
     "text": [
      "['Low Fat' 'Regular' 'low fat' 'LF' 'reg']\n"
     ]
    }
   ],
   "source": [
    "# Item_Fat_Content classes are not organized\n",
    "print(df['Item_Fat_Content'].unique())"
   ]
  },
  {
   "cell_type": "code",
   "execution_count": 11,
   "metadata": {},
   "outputs": [
    {
     "name": "stdout",
     "output_type": "stream",
     "text": [
      "['low' 'regular']\n"
     ]
    }
   ],
   "source": [
    "# Mapping a dictionary to map all the fat types into low or regular.\n",
    "item_fat = {'Low Fat':'low', 'Regular':'regular', 'LF':'low', 'reg':'regular','low fat':'low'}\n",
    "\n",
    "df['Item_Fat_Content'] = df['Item_Fat_Content'].map(item_fat)\n",
    "dftest['Item_Fat_Content'] = dftest['Item_Fat_Content'].map(item_fat)\n",
    "print(df['Item_Fat_Content'].unique())  # All classes are now changed into low or regular."
   ]
  },
  {
   "cell_type": "markdown",
   "metadata": {},
   "source": [
    "## Treating Missing Values"
   ]
  },
  {
   "cell_type": "code",
   "execution_count": 12,
   "metadata": {},
   "outputs": [
    {
     "data": {
      "text/plain": [
       "Item_Identifier               0.000000\n",
       "Item_Weight                  17.165317\n",
       "Item_Fat_Content              0.000000\n",
       "Item_Visibility               0.000000\n",
       "Item_Type                     0.000000\n",
       "Item_MRP                      0.000000\n",
       "Outlet_Identifier             0.000000\n",
       "Outlet_Establishment_Year     0.000000\n",
       "Outlet_Size                  28.276428\n",
       "Outlet_Location_Type          0.000000\n",
       "Outlet_Type                   0.000000\n",
       "Item_Outlet_Sales             0.000000\n",
       "dtype: float64"
      ]
     },
     "execution_count": 12,
     "metadata": {},
     "output_type": "execute_result"
    }
   ],
   "source": [
    "# Null Values in terms of percentage\n",
    "df.isnull().sum() / df.shape[0]*100"
   ]
  },
  {
   "cell_type": "markdown",
   "metadata": {},
   "source": [
    "### Item Pre Processing"
   ]
  },
  {
   "cell_type": "code",
   "execution_count": 13,
   "metadata": {},
   "outputs": [
    {
     "name": "stdout",
     "output_type": "stream",
     "text": [
      "low        951\n",
      "regular    512\n",
      "Name: Item_Fat_Content, dtype: int64\n"
     ]
    },
    {
     "name": "stderr",
     "output_type": "stream",
     "text": [
      "C:\\Users\\Divyajeet\\anaconda3\\lib\\site-packages\\seaborn\\_decorators.py:43: FutureWarning: Pass the following variable as a keyword arg: x. From version 0.12, the only valid positional argument will be `data`, and passing other arguments without an explicit keyword will result in an error or misinterpretation.\n",
      "  FutureWarning\n"
     ]
    },
    {
     "data": {
      "image/png": "[encoded data removed]",
      "text/plain": [
       "<Figure size 432x288 with 1 Axes>"
      ]
     },
     "metadata": {
      "needs_background": "light"
     },
     "output_type": "display_data"
    }
   ],
   "source": [
    "# Null values based on 'Item_Fat_Content'\n",
    "print(df[ df['Item_Weight'].isnull() ]['Item_Fat_Content'].value_counts())\n",
    "\n",
    "sns.countplot(df[ df['Item_Weight'].isnull() ]['Item_Fat_Content'])\n",
    "plt.show()"
   ]
  },
  {
   "cell_type": "code",
   "execution_count": 14,
   "metadata": {},
   "outputs": [
    {
     "name": "stdout",
     "output_type": "stream",
     "text": [
      "Fruits and Vegetables    213\n",
      "Snack Foods              212\n",
      "Household                151\n",
      "Frozen Foods             138\n",
      "Dairy                    116\n",
      "Baking Goods             112\n",
      "Canned                   110\n",
      "Health and Hygiene        90\n",
      "Meat                      88\n",
      "Soft Drinks               71\n",
      "Breads                    47\n",
      "Others                    32\n",
      "Hard Drinks               31\n",
      "Breakfast                 21\n",
      "Starchy Foods             18\n",
      "Seafood                   13\n",
      "Name: Item_Type, dtype: int64\n"
     ]
    },
    {
     "name": "stderr",
     "output_type": "stream",
     "text": [
      "C:\\Users\\Divyajeet\\anaconda3\\lib\\site-packages\\seaborn\\_decorators.py:43: FutureWarning: Pass the following variable as a keyword arg: x. From version 0.12, the only valid positional argument will be `data`, and passing other arguments without an explicit keyword will result in an error or misinterpretation.\n",
      "  FutureWarning\n"
     ]
    },
    {
     "data": {
      "image/png": "[encoded data removed]",
      "text/plain": [
       "<Figure size 1080x360 with 1 Axes>"
      ]
     },
     "metadata": {
      "needs_background": "light"
     },
     "output_type": "display_data"
    }
   ],
   "source": [
    "# Null values based on 'Item_Fat_Content'\n",
    "print(df[ df['Item_Weight'].isnull() ]['Item_Type'].value_counts())\n",
    "\n",
    "plt.figure(figsize=(15,5))\n",
    "sns.countplot(df[ df['Item_Weight'].isnull() ]['Item_Type'])\n",
    "plt.xticks(rotation=90)\n",
    "plt.show()"
   ]
  },
  {
   "cell_type": "code",
   "execution_count": 15,
   "metadata": {},
   "outputs": [
    {
     "data": {
      "text/html": [
       "<div>\n",
       "<style scoped>\n",
       "    .dataframe tbody tr th:only-of-type {\n",
       "        vertical-align: middle;\n",
       "    }\n",
       "\n",
       "    .dataframe tbody tr th {\n",
       "        vertical-align: top;\n",
       "    }\n",
       "\n",
       "    .dataframe thead th {\n",
       "        text-align: right;\n",
       "    }\n",
       "</style>\n",
       "<table border=\"1\" class=\"dataframe\">\n",
       "  <thead>\n",
       "    <tr style=\"text-align: right;\">\n",
       "      <th></th>\n",
       "      <th>Item_Identifier</th>\n",
       "      <th>Item_Weight</th>\n",
       "      <th>Item_Fat_Content</th>\n",
       "      <th>Item_Visibility</th>\n",
       "      <th>Item_Type</th>\n",
       "      <th>Item_MRP</th>\n",
       "      <th>Outlet_Identifier</th>\n",
       "      <th>Outlet_Establishment_Year</th>\n",
       "      <th>Outlet_Size</th>\n",
       "      <th>Outlet_Location_Type</th>\n",
       "      <th>Outlet_Type</th>\n",
       "      <th>Item_Outlet_Sales</th>\n",
       "    </tr>\n",
       "  </thead>\n",
       "  <tbody>\n",
       "    <tr>\n",
       "      <th>4900</th>\n",
       "      <td>DRA24</td>\n",
       "      <td>19.35</td>\n",
       "      <td>regular</td>\n",
       "      <td>0.039921</td>\n",
       "      <td>Soft Drinks</td>\n",
       "      <td>163.3868</td>\n",
       "      <td>OUT035</td>\n",
       "      <td>2004</td>\n",
       "      <td>Small</td>\n",
       "      <td>Tier 2</td>\n",
       "      <td>Supermarket Type1</td>\n",
       "      <td>3439.5228</td>\n",
       "    </tr>\n",
       "    <tr>\n",
       "      <th>1148</th>\n",
       "      <td>DRA24</td>\n",
       "      <td>19.35</td>\n",
       "      <td>regular</td>\n",
       "      <td>0.040154</td>\n",
       "      <td>Soft Drinks</td>\n",
       "      <td>164.6868</td>\n",
       "      <td>OUT017</td>\n",
       "      <td>2007</td>\n",
       "      <td>NaN</td>\n",
       "      <td>Tier 2</td>\n",
       "      <td>Supermarket Type1</td>\n",
       "      <td>1146.5076</td>\n",
       "    </tr>\n",
       "    <tr>\n",
       "      <th>4130</th>\n",
       "      <td>DRA24</td>\n",
       "      <td>19.35</td>\n",
       "      <td>regular</td>\n",
       "      <td>0.066832</td>\n",
       "      <td>Soft Drinks</td>\n",
       "      <td>163.8868</td>\n",
       "      <td>OUT010</td>\n",
       "      <td>1998</td>\n",
       "      <td>NaN</td>\n",
       "      <td>Tier 3</td>\n",
       "      <td>Grocery Store</td>\n",
       "      <td>327.5736</td>\n",
       "    </tr>\n",
       "    <tr>\n",
       "      <th>4416</th>\n",
       "      <td>DRA24</td>\n",
       "      <td>NaN</td>\n",
       "      <td>regular</td>\n",
       "      <td>0.039735</td>\n",
       "      <td>Soft Drinks</td>\n",
       "      <td>165.7868</td>\n",
       "      <td>OUT027</td>\n",
       "      <td>1985</td>\n",
       "      <td>Medium</td>\n",
       "      <td>Tier 3</td>\n",
       "      <td>Supermarket Type3</td>\n",
       "      <td>4913.6040</td>\n",
       "    </tr>\n",
       "    <tr>\n",
       "      <th>6863</th>\n",
       "      <td>DRA24</td>\n",
       "      <td>19.35</td>\n",
       "      <td>regular</td>\n",
       "      <td>0.039990</td>\n",
       "      <td>Soft Drinks</td>\n",
       "      <td>165.0868</td>\n",
       "      <td>OUT049</td>\n",
       "      <td>1999</td>\n",
       "      <td>Medium</td>\n",
       "      <td>Tier 1</td>\n",
       "      <td>Supermarket Type1</td>\n",
       "      <td>982.7208</td>\n",
       "    </tr>\n",
       "  </tbody>\n",
       "</table>\n",
       "</div>"
      ],
      "text/plain": [
       "     Item_Identifier  Item_Weight Item_Fat_Content  Item_Visibility  \\\n",
       "4900           DRA24        19.35          regular         0.039921   \n",
       "1148           DRA24        19.35          regular         0.040154   \n",
       "4130           DRA24        19.35          regular         0.066832   \n",
       "4416           DRA24          NaN          regular         0.039735   \n",
       "6863           DRA24        19.35          regular         0.039990   \n",
       "\n",
       "        Item_Type  Item_MRP Outlet_Identifier  Outlet_Establishment_Year  \\\n",
       "4900  Soft Drinks  163.3868            OUT035                       2004   \n",
       "1148  Soft Drinks  164.6868            OUT017                       2007   \n",
       "4130  Soft Drinks  163.8868            OUT010                       1998   \n",
       "4416  Soft Drinks  165.7868            OUT027                       1985   \n",
       "6863  Soft Drinks  165.0868            OUT049                       1999   \n",
       "\n",
       "     Outlet_Size Outlet_Location_Type        Outlet_Type  Item_Outlet_Sales  \n",
       "4900       Small               Tier 2  Supermarket Type1          3439.5228  \n",
       "1148         NaN               Tier 2  Supermarket Type1          1146.5076  \n",
       "4130         NaN               Tier 3      Grocery Store           327.5736  \n",
       "4416      Medium               Tier 3  Supermarket Type3          4913.6040  \n",
       "6863      Medium               Tier 1  Supermarket Type1           982.7208  "
      ]
     },
     "execution_count": 15,
     "metadata": {},
     "output_type": "execute_result"
    }
   ],
   "source": [
    "# Creating an array for those unique item_identifier which are having null values.\n",
    "item_having_null = df[df['Item_Weight'].isnull()]['Item_Identifier'].unique()\n",
    "\n",
    "# Showing products from those item_identifier which have missing values.\n",
    "df[ df['Item_Identifier'].isin(item_having_null)].sort_values(by='Item_Identifier', ascending=True).head(5)\n",
    "\n",
    "#  Item_weight and item_mrp is correlated for each item_identifier"
   ]
  },
  {
   "cell_type": "code",
   "execution_count": 16,
   "metadata": {},
   "outputs": [
    {
     "data": {
      "text/html": [
       "<div>\n",
       "<style scoped>\n",
       "    .dataframe tbody tr th:only-of-type {\n",
       "        vertical-align: middle;\n",
       "    }\n",
       "\n",
       "    .dataframe tbody tr th {\n",
       "        vertical-align: top;\n",
       "    }\n",
       "\n",
       "    .dataframe thead th {\n",
       "        text-align: right;\n",
       "    }\n",
       "</style>\n",
       "<table border=\"1\" class=\"dataframe\">\n",
       "  <thead>\n",
       "    <tr style=\"text-align: right;\">\n",
       "      <th></th>\n",
       "      <th>Item_Identifier</th>\n",
       "      <th>Item_Weight</th>\n",
       "      <th>Item_Fat_Content</th>\n",
       "      <th>Item_Visibility</th>\n",
       "      <th>Item_Type</th>\n",
       "      <th>Item_MRP</th>\n",
       "      <th>Item_MRP_per_unit_weight</th>\n",
       "      <th>Outlet_Identifier</th>\n",
       "      <th>Outlet_Establishment_Year</th>\n",
       "      <th>Outlet_Size</th>\n",
       "      <th>Outlet_Location_Type</th>\n",
       "      <th>Outlet_Type</th>\n",
       "      <th>Item_Outlet_Sales</th>\n",
       "    </tr>\n",
       "  </thead>\n",
       "  <tbody>\n",
       "    <tr>\n",
       "      <th>0</th>\n",
       "      <td>FDA15</td>\n",
       "      <td>9.30</td>\n",
       "      <td>low</td>\n",
       "      <td>0.016047</td>\n",
       "      <td>Dairy</td>\n",
       "      <td>249.8092</td>\n",
       "      <td>26.861204</td>\n",
       "      <td>OUT049</td>\n",
       "      <td>1999</td>\n",
       "      <td>Medium</td>\n",
       "      <td>Tier 1</td>\n",
       "      <td>Supermarket Type1</td>\n",
       "      <td>3735.1380</td>\n",
       "    </tr>\n",
       "    <tr>\n",
       "      <th>1</th>\n",
       "      <td>DRC01</td>\n",
       "      <td>5.92</td>\n",
       "      <td>regular</td>\n",
       "      <td>0.019278</td>\n",
       "      <td>Soft Drinks</td>\n",
       "      <td>48.2692</td>\n",
       "      <td>8.153581</td>\n",
       "      <td>OUT018</td>\n",
       "      <td>2009</td>\n",
       "      <td>Medium</td>\n",
       "      <td>Tier 3</td>\n",
       "      <td>Supermarket Type2</td>\n",
       "      <td>443.4228</td>\n",
       "    </tr>\n",
       "    <tr>\n",
       "      <th>2</th>\n",
       "      <td>FDN15</td>\n",
       "      <td>17.50</td>\n",
       "      <td>low</td>\n",
       "      <td>0.016760</td>\n",
       "      <td>Meat</td>\n",
       "      <td>141.6180</td>\n",
       "      <td>8.092457</td>\n",
       "      <td>OUT049</td>\n",
       "      <td>1999</td>\n",
       "      <td>Medium</td>\n",
       "      <td>Tier 1</td>\n",
       "      <td>Supermarket Type1</td>\n",
       "      <td>2097.2700</td>\n",
       "    </tr>\n",
       "    <tr>\n",
       "      <th>3</th>\n",
       "      <td>FDX07</td>\n",
       "      <td>19.20</td>\n",
       "      <td>regular</td>\n",
       "      <td>0.000000</td>\n",
       "      <td>Fruits and Vegetables</td>\n",
       "      <td>182.0950</td>\n",
       "      <td>9.484115</td>\n",
       "      <td>OUT010</td>\n",
       "      <td>1998</td>\n",
       "      <td>NaN</td>\n",
       "      <td>Tier 3</td>\n",
       "      <td>Grocery Store</td>\n",
       "      <td>732.3800</td>\n",
       "    </tr>\n",
       "    <tr>\n",
       "      <th>4</th>\n",
       "      <td>NCD19</td>\n",
       "      <td>8.93</td>\n",
       "      <td>low</td>\n",
       "      <td>0.000000</td>\n",
       "      <td>Household</td>\n",
       "      <td>53.8614</td>\n",
       "      <td>6.031512</td>\n",
       "      <td>OUT013</td>\n",
       "      <td>1987</td>\n",
       "      <td>High</td>\n",
       "      <td>Tier 3</td>\n",
       "      <td>Supermarket Type1</td>\n",
       "      <td>994.7052</td>\n",
       "    </tr>\n",
       "  </tbody>\n",
       "</table>\n",
       "</div>"
      ],
      "text/plain": [
       "  Item_Identifier  Item_Weight Item_Fat_Content  Item_Visibility  \\\n",
       "0           FDA15         9.30              low         0.016047   \n",
       "1           DRC01         5.92          regular         0.019278   \n",
       "2           FDN15        17.50              low         0.016760   \n",
       "3           FDX07        19.20          regular         0.000000   \n",
       "4           NCD19         8.93              low         0.000000   \n",
       "\n",
       "               Item_Type  Item_MRP  Item_MRP_per_unit_weight  \\\n",
       "0                  Dairy  249.8092                 26.861204   \n",
       "1            Soft Drinks   48.2692                  8.153581   \n",
       "2                   Meat  141.6180                  8.092457   \n",
       "3  Fruits and Vegetables  182.0950                  9.484115   \n",
       "4              Household   53.8614                  6.031512   \n",
       "\n",
       "  Outlet_Identifier  Outlet_Establishment_Year Outlet_Size  \\\n",
       "0            OUT049                       1999      Medium   \n",
       "1            OUT018                       2009      Medium   \n",
       "2            OUT049                       1999      Medium   \n",
       "3            OUT010                       1998         NaN   \n",
       "4            OUT013                       1987        High   \n",
       "\n",
       "  Outlet_Location_Type        Outlet_Type  Item_Outlet_Sales  \n",
       "0               Tier 1  Supermarket Type1          3735.1380  \n",
       "1               Tier 3  Supermarket Type2           443.4228  \n",
       "2               Tier 1  Supermarket Type1          2097.2700  \n",
       "3               Tier 3      Grocery Store           732.3800  \n",
       "4               Tier 3  Supermarket Type1           994.7052  "
      ]
     },
     "execution_count": 16,
     "metadata": {},
     "output_type": "execute_result"
    }
   ],
   "source": [
    "# Creating a new column called Item_MRP_per_unit weight\n",
    "\n",
    "df.insert(6,'Item_MRP_per_unit_weight',float )\n",
    "df['Item_MRP_per_unit_weight'] = df['Item_MRP']/df['Item_Weight']\n",
    "\n",
    "dftest.insert(6,'Item_MRP_per_unit_weight',float )\n",
    "dftest['Item_MRP_per_unit_weight'] = dftest['Item_MRP']/dftest['Item_Weight']\n",
    "\n",
    "df.head(5)"
   ]
  },
  {
   "cell_type": "code",
   "execution_count": 17,
   "metadata": {},
   "outputs": [],
   "source": [
    "# Bifurcating all the item columns with outlet columns\n",
    "item_train = df.iloc[:,:7]\n",
    "outlet_train = df.iloc[:,7:-1]\n",
    "\n",
    "item_test = dftest.iloc[:,:7]\n",
    "outlet_test = dftest.iloc[:,7:]"
   ]
  },
  {
   "cell_type": "code",
   "execution_count": 18,
   "metadata": {},
   "outputs": [],
   "source": [
    "# Imputing all the missing Item_MRP_per_unit_weight with mean value of the grouped by Item_Identifier"
   ]
  },
  {
   "cell_type": "code",
   "execution_count": 19,
   "metadata": {},
   "outputs": [
    {
     "data": {
      "text/plain": [
       "Item_Identifier\n",
       "DRA12    12.229776\n",
       "DRA24     8.470636\n",
       "DRA59    22.338863\n",
       "DRB01    25.622869\n",
       "DRB13    31.020932\n",
       "           ...    \n",
       "NCZ30    18.294355\n",
       "NCZ41     6.328987\n",
       "NCZ42    22.537600\n",
       "NCZ53    19.562125\n",
       "NCZ54    11.068614\n",
       "Name: Item_MRP_per_unit_weight, Length: 1559, dtype: float64"
      ]
     },
     "execution_count": 19,
     "metadata": {},
     "output_type": "execute_result"
    }
   ],
   "source": [
    "# Creating a dataframe which contains all the item_identifier and item_mrp_per_unit_weight\n",
    "item_train_mean_mrp = item_train[['Item_Identifier','Item_MRP_per_unit_weight']]\n",
    "item_train_mean_mrp = item_train_mean_mrp.groupby(by='Item_Identifier').mean()\n",
    "item_train_mean_mrp['Item_MRP_per_unit_weight']"
   ]
  },
  {
   "cell_type": "code",
   "execution_count": 20,
   "metadata": {},
   "outputs": [
    {
     "name": "stdout",
     "output_type": "stream",
     "text": [
      "False    7060\n",
      "True     1463\n",
      "Name: MRP_null, dtype: int64\n",
      "False    4705\n",
      "True      976\n",
      "Name: MRP_null, dtype: int64\n"
     ]
    },
    {
     "data": {
      "text/plain": [
       "(None, None)"
      ]
     },
     "execution_count": 20,
     "metadata": {},
     "output_type": "execute_result"
    }
   ],
   "source": [
    "# Creating new column to specify whether item_weight contains null value or not for a record\n",
    "item_train['MRP_null'] = item_train['Item_MRP_per_unit_weight'].isnull()\n",
    "item_test['MRP_null'] = item_test['Item_MRP_per_unit_weight'].isnull()\n",
    "\n",
    "print(item_train['MRP_null'].value_counts()) , print(item_test['MRP_null'].value_counts())"
   ]
  },
  {
   "cell_type": "code",
   "execution_count": 21,
   "metadata": {},
   "outputs": [],
   "source": [
    "for i in range(item_train.shape[0]):\n",
    "    e = item_train.iloc[i,0]\n",
    "    if item_train.iloc[i,-1] == True:\n",
    "        item_train.loc[i, 'Item_MRP_per_unit_weight'] =  item_train_mean_mrp['Item_MRP_per_unit_weight'][e]\n",
    "\n",
    "for i in range(item_test.shape[0]):\n",
    "    e = item_test.iloc[i,0]\n",
    "    if item_test.iloc[i,-1] == True:\n",
    "        item_test.loc[i, 'Item_MRP_per_unit_weight'] =  item_train_mean_mrp['Item_MRP_per_unit_weight'][e]"
   ]
  },
  {
   "cell_type": "code",
   "execution_count": 22,
   "metadata": {},
   "outputs": [
    {
     "data": {
      "text/html": [
       "<div>\n",
       "<style scoped>\n",
       "    .dataframe tbody tr th:only-of-type {\n",
       "        vertical-align: middle;\n",
       "    }\n",
       "\n",
       "    .dataframe tbody tr th {\n",
       "        vertical-align: top;\n",
       "    }\n",
       "\n",
       "    .dataframe thead th {\n",
       "        text-align: right;\n",
       "    }\n",
       "</style>\n",
       "<table border=\"1\" class=\"dataframe\">\n",
       "  <thead>\n",
       "    <tr style=\"text-align: right;\">\n",
       "      <th></th>\n",
       "      <th>Item_Identifier</th>\n",
       "      <th>Item_Weight</th>\n",
       "      <th>Item_Fat_Content</th>\n",
       "      <th>Item_Visibility</th>\n",
       "      <th>Item_Type</th>\n",
       "      <th>Item_MRP</th>\n",
       "      <th>Item_MRP_per_unit_weight</th>\n",
       "      <th>MRP_null</th>\n",
       "    </tr>\n",
       "  </thead>\n",
       "  <tbody>\n",
       "    <tr>\n",
       "      <th>18</th>\n",
       "      <td>DRI11</td>\n",
       "      <td>NaN</td>\n",
       "      <td>low</td>\n",
       "      <td>0.034238</td>\n",
       "      <td>Hard Drinks</td>\n",
       "      <td>113.2834</td>\n",
       "      <td>13.949564</td>\n",
       "      <td>True</td>\n",
       "    </tr>\n",
       "    <tr>\n",
       "      <th>1366</th>\n",
       "      <td>DRI11</td>\n",
       "      <td>NaN</td>\n",
       "      <td>low</td>\n",
       "      <td>0.060237</td>\n",
       "      <td>Hard Drinks</td>\n",
       "      <td>115.9834</td>\n",
       "      <td>13.949564</td>\n",
       "      <td>True</td>\n",
       "    </tr>\n",
       "    <tr>\n",
       "      <th>3127</th>\n",
       "      <td>DRI11</td>\n",
       "      <td>8.26</td>\n",
       "      <td>low</td>\n",
       "      <td>0.034458</td>\n",
       "      <td>Hard Drinks</td>\n",
       "      <td>113.3834</td>\n",
       "      <td>13.726804</td>\n",
       "      <td>False</td>\n",
       "    </tr>\n",
       "    <tr>\n",
       "      <th>5310</th>\n",
       "      <td>DRI11</td>\n",
       "      <td>8.26</td>\n",
       "      <td>low</td>\n",
       "      <td>0.057586</td>\n",
       "      <td>Hard Drinks</td>\n",
       "      <td>113.7834</td>\n",
       "      <td>13.775230</td>\n",
       "      <td>False</td>\n",
       "    </tr>\n",
       "    <tr>\n",
       "      <th>7022</th>\n",
       "      <td>DRI11</td>\n",
       "      <td>8.26</td>\n",
       "      <td>low</td>\n",
       "      <td>0.034398</td>\n",
       "      <td>Hard Drinks</td>\n",
       "      <td>115.7834</td>\n",
       "      <td>14.017361</td>\n",
       "      <td>False</td>\n",
       "    </tr>\n",
       "    <tr>\n",
       "      <th>7192</th>\n",
       "      <td>DRI11</td>\n",
       "      <td>8.26</td>\n",
       "      <td>low</td>\n",
       "      <td>0.034544</td>\n",
       "      <td>Hard Drinks</td>\n",
       "      <td>116.0834</td>\n",
       "      <td>14.053680</td>\n",
       "      <td>False</td>\n",
       "    </tr>\n",
       "    <tr>\n",
       "      <th>8483</th>\n",
       "      <td>DRI11</td>\n",
       "      <td>8.26</td>\n",
       "      <td>low</td>\n",
       "      <td>0.034474</td>\n",
       "      <td>Hard Drinks</td>\n",
       "      <td>117.0834</td>\n",
       "      <td>14.174746</td>\n",
       "      <td>False</td>\n",
       "    </tr>\n",
       "  </tbody>\n",
       "</table>\n",
       "</div>"
      ],
      "text/plain": [
       "     Item_Identifier  Item_Weight Item_Fat_Content  Item_Visibility  \\\n",
       "18             DRI11          NaN              low         0.034238   \n",
       "1366           DRI11          NaN              low         0.060237   \n",
       "3127           DRI11         8.26              low         0.034458   \n",
       "5310           DRI11         8.26              low         0.057586   \n",
       "7022           DRI11         8.26              low         0.034398   \n",
       "7192           DRI11         8.26              low         0.034544   \n",
       "8483           DRI11         8.26              low         0.034474   \n",
       "\n",
       "        Item_Type  Item_MRP  Item_MRP_per_unit_weight  MRP_null  \n",
       "18    Hard Drinks  113.2834                 13.949564      True  \n",
       "1366  Hard Drinks  115.9834                 13.949564      True  \n",
       "3127  Hard Drinks  113.3834                 13.726804     False  \n",
       "5310  Hard Drinks  113.7834                 13.775230     False  \n",
       "7022  Hard Drinks  115.7834                 14.017361     False  \n",
       "7192  Hard Drinks  116.0834                 14.053680     False  \n",
       "8483  Hard Drinks  117.0834                 14.174746     False  "
      ]
     },
     "execution_count": 22,
     "metadata": {},
     "output_type": "execute_result"
    }
   ],
   "source": [
    "# Item_MRP_per_unit_weight is filled with average Item_MRP_per_unit_weight value based on Item_Identifier\n",
    "item_train[item_train['Item_Identifier'] == 'DRI11']"
   ]
  },
  {
   "cell_type": "code",
   "execution_count": 23,
   "metadata": {},
   "outputs": [],
   "source": [
    "# Item_weight would be equal to Item_MRP / Item_MRP_per_unit_weight\n",
    "item_train.loc[ item_train['Item_Weight'].isnull() , 'Item_Weight'] = item_train['Item_MRP']/item_train['Item_MRP_per_unit_weight']\n",
    "item_test.loc[ item_test['Item_Weight'].isnull() , 'Item_Weight'] = item_test['Item_MRP']/item_test['Item_MRP_per_unit_weight']"
   ]
  },
  {
   "cell_type": "code",
   "execution_count": 24,
   "metadata": {},
   "outputs": [
    {
     "data": {
      "text/html": [
       "<div>\n",
       "<style scoped>\n",
       "    .dataframe tbody tr th:only-of-type {\n",
       "        vertical-align: middle;\n",
       "    }\n",
       "\n",
       "    .dataframe tbody tr th {\n",
       "        vertical-align: top;\n",
       "    }\n",
       "\n",
       "    .dataframe thead th {\n",
       "        text-align: right;\n",
       "    }\n",
       "</style>\n",
       "<table border=\"1\" class=\"dataframe\">\n",
       "  <thead>\n",
       "    <tr style=\"text-align: right;\">\n",
       "      <th></th>\n",
       "      <th>Item_Identifier</th>\n",
       "      <th>Item_Weight</th>\n",
       "      <th>Item_Fat_Content</th>\n",
       "      <th>Item_Visibility</th>\n",
       "      <th>Item_Type</th>\n",
       "      <th>Item_MRP</th>\n",
       "      <th>Item_MRP_per_unit_weight</th>\n",
       "      <th>MRP_null</th>\n",
       "    </tr>\n",
       "  </thead>\n",
       "  <tbody>\n",
       "    <tr>\n",
       "      <th>927</th>\n",
       "      <td>FDN52</td>\n",
       "      <td>NaN</td>\n",
       "      <td>regular</td>\n",
       "      <td>0.130933</td>\n",
       "      <td>Frozen Foods</td>\n",
       "      <td>86.9198</td>\n",
       "      <td>NaN</td>\n",
       "      <td>True</td>\n",
       "    </tr>\n",
       "    <tr>\n",
       "      <th>1922</th>\n",
       "      <td>FDK57</td>\n",
       "      <td>NaN</td>\n",
       "      <td>low</td>\n",
       "      <td>0.079904</td>\n",
       "      <td>Snack Foods</td>\n",
       "      <td>120.0440</td>\n",
       "      <td>NaN</td>\n",
       "      <td>True</td>\n",
       "    </tr>\n",
       "    <tr>\n",
       "      <th>4187</th>\n",
       "      <td>FDE52</td>\n",
       "      <td>NaN</td>\n",
       "      <td>regular</td>\n",
       "      <td>0.029742</td>\n",
       "      <td>Dairy</td>\n",
       "      <td>88.9514</td>\n",
       "      <td>NaN</td>\n",
       "      <td>True</td>\n",
       "    </tr>\n",
       "    <tr>\n",
       "      <th>5022</th>\n",
       "      <td>FDQ60</td>\n",
       "      <td>NaN</td>\n",
       "      <td>regular</td>\n",
       "      <td>0.191501</td>\n",
       "      <td>Baking Goods</td>\n",
       "      <td>121.2098</td>\n",
       "      <td>NaN</td>\n",
       "      <td>True</td>\n",
       "    </tr>\n",
       "  </tbody>\n",
       "</table>\n",
       "</div>"
      ],
      "text/plain": [
       "     Item_Identifier  Item_Weight Item_Fat_Content  Item_Visibility  \\\n",
       "927            FDN52          NaN          regular         0.130933   \n",
       "1922           FDK57          NaN              low         0.079904   \n",
       "4187           FDE52          NaN          regular         0.029742   \n",
       "5022           FDQ60          NaN          regular         0.191501   \n",
       "\n",
       "         Item_Type  Item_MRP  Item_MRP_per_unit_weight  MRP_null  \n",
       "927   Frozen Foods   86.9198                       NaN      True  \n",
       "1922   Snack Foods  120.0440                       NaN      True  \n",
       "4187         Dairy   88.9514                       NaN      True  \n",
       "5022  Baking Goods  121.2098                       NaN      True  "
      ]
     },
     "execution_count": 24,
     "metadata": {},
     "output_type": "execute_result"
    }
   ],
   "source": [
    "# Still Some items are having null values, because they were the only record with respect to Item_Identifier\n",
    "# and thats why group mean did not imputed null values. For these we will use KNN imputation\n",
    "item_train.loc[ item_train['Item_Weight'].isnull() ]"
   ]
  },
  {
   "cell_type": "code",
   "execution_count": 25,
   "metadata": {},
   "outputs": [],
   "source": [
    "item_train_knn = item_train[['Item_Weight','Item_Visibility','Item_MRP']]\n",
    "item_test_knn = item_test[['Item_Weight','Item_Visibility','Item_MRP']]"
   ]
  },
  {
   "cell_type": "code",
   "execution_count": 26,
   "metadata": {},
   "outputs": [],
   "source": [
    "# Scaling of the numerical data\n",
    "from sklearn.preprocessing import StandardScaler\n",
    "st = StandardScaler()\n",
    "item_train_knn = pd.DataFrame( st.fit_transform(item_train_knn), columns=item_train_knn.columns )\n",
    "item_test_knn = pd.DataFrame(st.transform(item_test_knn), columns=item_test_knn.columns)"
   ]
  },
  {
   "cell_type": "code",
   "execution_count": 27,
   "metadata": {},
   "outputs": [],
   "source": [
    "# KNN imputation of the data\n",
    "from sklearn.impute import KNNImputer\n",
    "knn = KNNImputer()\n",
    "item_train_knn = pd.DataFrame(knn.fit_transform(item_train_knn), columns=item_train_knn.columns)\n",
    "item_test_knn = pd.DataFrame(knn.transform(item_test_knn), columns=item_test_knn.columns)"
   ]
  },
  {
   "cell_type": "code",
   "execution_count": 28,
   "metadata": {},
   "outputs": [
    {
     "data": {
      "text/plain": [
       "Item_Weight        0\n",
       "Item_Visibility    0\n",
       "Item_MRP           0\n",
       "dtype: int64"
      ]
     },
     "execution_count": 28,
     "metadata": {},
     "output_type": "execute_result"
    }
   ],
   "source": [
    "item_train_knn.isnull().sum()"
   ]
  },
  {
   "cell_type": "code",
   "execution_count": 29,
   "metadata": {},
   "outputs": [
    {
     "data": {
      "text/html": [
       "<div>\n",
       "<style scoped>\n",
       "    .dataframe tbody tr th:only-of-type {\n",
       "        vertical-align: middle;\n",
       "    }\n",
       "\n",
       "    .dataframe tbody tr th {\n",
       "        vertical-align: top;\n",
       "    }\n",
       "\n",
       "    .dataframe thead th {\n",
       "        text-align: right;\n",
       "    }\n",
       "</style>\n",
       "<table border=\"1\" class=\"dataframe\">\n",
       "  <thead>\n",
       "    <tr style=\"text-align: right;\">\n",
       "      <th></th>\n",
       "      <th>Item_Identifier</th>\n",
       "      <th>Item_Weight</th>\n",
       "      <th>Item_Fat_Content</th>\n",
       "      <th>Item_Visibility</th>\n",
       "      <th>Item_Type</th>\n",
       "      <th>Item_MRP</th>\n",
       "    </tr>\n",
       "  </thead>\n",
       "  <tbody>\n",
       "    <tr>\n",
       "      <th>0</th>\n",
       "      <td>FDA15</td>\n",
       "      <td>-0.769651</td>\n",
       "      <td>low</td>\n",
       "      <td>-0.970732</td>\n",
       "      <td>Dairy</td>\n",
       "      <td>1.747454</td>\n",
       "    </tr>\n",
       "    <tr>\n",
       "      <th>1</th>\n",
       "      <td>DRC01</td>\n",
       "      <td>-1.497267</td>\n",
       "      <td>regular</td>\n",
       "      <td>-0.908111</td>\n",
       "      <td>Soft Drinks</td>\n",
       "      <td>-1.489023</td>\n",
       "    </tr>\n",
       "    <tr>\n",
       "      <th>2</th>\n",
       "      <td>FDN15</td>\n",
       "      <td>0.995570</td>\n",
       "      <td>low</td>\n",
       "      <td>-0.956917</td>\n",
       "      <td>Meat</td>\n",
       "      <td>0.010040</td>\n",
       "    </tr>\n",
       "    <tr>\n",
       "      <th>3</th>\n",
       "      <td>FDX07</td>\n",
       "      <td>1.361531</td>\n",
       "      <td>regular</td>\n",
       "      <td>-1.281758</td>\n",
       "      <td>Fruits and Vegetables</td>\n",
       "      <td>0.660050</td>\n",
       "    </tr>\n",
       "    <tr>\n",
       "      <th>4</th>\n",
       "      <td>NCD19</td>\n",
       "      <td>-0.849302</td>\n",
       "      <td>low</td>\n",
       "      <td>-1.281758</td>\n",
       "      <td>Household</td>\n",
       "      <td>-1.399220</td>\n",
       "    </tr>\n",
       "  </tbody>\n",
       "</table>\n",
       "</div>"
      ],
      "text/plain": [
       "  Item_Identifier  Item_Weight Item_Fat_Content  Item_Visibility  \\\n",
       "0           FDA15    -0.769651              low        -0.970732   \n",
       "1           DRC01    -1.497267          regular        -0.908111   \n",
       "2           FDN15     0.995570              low        -0.956917   \n",
       "3           FDX07     1.361531          regular        -1.281758   \n",
       "4           NCD19    -0.849302              low        -1.281758   \n",
       "\n",
       "               Item_Type  Item_MRP  \n",
       "0                  Dairy  1.747454  \n",
       "1            Soft Drinks -1.489023  \n",
       "2                   Meat  0.010040  \n",
       "3  Fruits and Vegetables  0.660050  \n",
       "4              Household -1.399220  "
      ]
     },
     "execution_count": 29,
     "metadata": {},
     "output_type": "execute_result"
    }
   ],
   "source": [
    "item_train = item_train.drop(columns=['Item_MRP_per_unit_weight','MRP_null'])\n",
    "item_train[item_train_knn.columns] = item_train_knn\n",
    "item_train.head()"
   ]
  },
  {
   "cell_type": "code",
   "execution_count": 30,
   "metadata": {},
   "outputs": [
    {
     "data": {
      "text/html": [
       "<div>\n",
       "<style scoped>\n",
       "    .dataframe tbody tr th:only-of-type {\n",
       "        vertical-align: middle;\n",
       "    }\n",
       "\n",
       "    .dataframe tbody tr th {\n",
       "        vertical-align: top;\n",
       "    }\n",
       "\n",
       "    .dataframe thead th {\n",
       "        text-align: right;\n",
       "    }\n",
       "</style>\n",
       "<table border=\"1\" class=\"dataframe\">\n",
       "  <thead>\n",
       "    <tr style=\"text-align: right;\">\n",
       "      <th></th>\n",
       "      <th>Item_Identifier</th>\n",
       "      <th>Item_Weight</th>\n",
       "      <th>Item_Fat_Content</th>\n",
       "      <th>Item_Visibility</th>\n",
       "      <th>Item_Type</th>\n",
       "      <th>Item_MRP</th>\n",
       "    </tr>\n",
       "  </thead>\n",
       "  <tbody>\n",
       "    <tr>\n",
       "      <th>0</th>\n",
       "      <td>FDW58</td>\n",
       "      <td>1.695201</td>\n",
       "      <td>low</td>\n",
       "      <td>-1.135138</td>\n",
       "      <td>Snack Foods</td>\n",
       "      <td>-0.532035</td>\n",
       "    </tr>\n",
       "    <tr>\n",
       "      <th>1</th>\n",
       "      <td>FDW14</td>\n",
       "      <td>-0.984922</td>\n",
       "      <td>regular</td>\n",
       "      <td>-0.536960</td>\n",
       "      <td>Dairy</td>\n",
       "      <td>-0.861920</td>\n",
       "    </tr>\n",
       "    <tr>\n",
       "      <th>2</th>\n",
       "      <td>NCN55</td>\n",
       "      <td>0.371284</td>\n",
       "      <td>low</td>\n",
       "      <td>0.648183</td>\n",
       "      <td>Others</td>\n",
       "      <td>1.618094</td>\n",
       "    </tr>\n",
       "    <tr>\n",
       "      <th>3</th>\n",
       "      <td>FDQ58</td>\n",
       "      <td>-1.196964</td>\n",
       "      <td>low</td>\n",
       "      <td>-0.983503</td>\n",
       "      <td>Snack Foods</td>\n",
       "      <td>0.225484</td>\n",
       "    </tr>\n",
       "    <tr>\n",
       "      <th>4</th>\n",
       "      <td>FDY38</td>\n",
       "      <td>0.182817</td>\n",
       "      <td>regular</td>\n",
       "      <td>1.016910</td>\n",
       "      <td>Dairy</td>\n",
       "      <td>1.497272</td>\n",
       "    </tr>\n",
       "  </tbody>\n",
       "</table>\n",
       "</div>"
      ],
      "text/plain": [
       "  Item_Identifier  Item_Weight Item_Fat_Content  Item_Visibility    Item_Type  \\\n",
       "0           FDW58     1.695201              low        -1.135138  Snack Foods   \n",
       "1           FDW14    -0.984922          regular        -0.536960        Dairy   \n",
       "2           NCN55     0.371284              low         0.648183       Others   \n",
       "3           FDQ58    -1.196964              low        -0.983503  Snack Foods   \n",
       "4           FDY38     0.182817          regular         1.016910        Dairy   \n",
       "\n",
       "   Item_MRP  \n",
       "0 -0.532035  \n",
       "1 -0.861920  \n",
       "2  1.618094  \n",
       "3  0.225484  \n",
       "4  1.497272  "
      ]
     },
     "execution_count": 30,
     "metadata": {},
     "output_type": "execute_result"
    }
   ],
   "source": [
    "item_test = item_test.drop(columns=['Item_MRP_per_unit_weight','MRP_null'])\n",
    "item_test[item_test_knn.columns] = item_test_knn\n",
    "item_test.head()"
   ]
  },
  {
   "cell_type": "markdown",
   "metadata": {},
   "source": [
    "### Outlet Preprocessing"
   ]
  },
  {
   "cell_type": "code",
   "execution_count": 31,
   "metadata": {},
   "outputs": [
    {
     "data": {
      "text/plain": [
       "Outlet_Identifier               0\n",
       "Outlet_Establishment_Year       0\n",
       "Outlet_Size                  2410\n",
       "Outlet_Location_Type            0\n",
       "Outlet_Type                     0\n",
       "dtype: int64"
      ]
     },
     "execution_count": 31,
     "metadata": {},
     "output_type": "execute_result"
    }
   ],
   "source": [
    "outlet_train.isnull().sum()"
   ]
  },
  {
   "cell_type": "code",
   "execution_count": 32,
   "metadata": {},
   "outputs": [
    {
     "data": {
      "text/plain": [
       "Outlet_Identifier             0.000000\n",
       "Outlet_Establishment_Year     0.000000\n",
       "Outlet_Size                  28.276428\n",
       "Outlet_Location_Type          0.000000\n",
       "Outlet_Type                   0.000000\n",
       "dtype: float64"
      ]
     },
     "execution_count": 32,
     "metadata": {},
     "output_type": "execute_result"
    }
   ],
   "source": [
    "outlet_train.isnull().sum()/outlet_train.shape[0]*100"
   ]
  },
  {
   "cell_type": "code",
   "execution_count": 33,
   "metadata": {},
   "outputs": [
    {
     "name": "stderr",
     "output_type": "stream",
     "text": [
      "C:\\Users\\Divyajeet\\anaconda3\\lib\\site-packages\\seaborn\\_decorators.py:43: FutureWarning: Pass the following variable as a keyword arg: x. From version 0.12, the only valid positional argument will be `data`, and passing other arguments without an explicit keyword will result in an error or misinterpretation.\n",
      "  FutureWarning\n"
     ]
    },
    {
     "data": {
      "image/png": "[encoded data removed]",
      "text/plain": [
       "<Figure size 432x288 with 1 Axes>"
      ]
     },
     "metadata": {
      "needs_background": "light"
     },
     "output_type": "display_data"
    }
   ],
   "source": [
    "outlet_train['Outlet_Size'].value_counts()\n",
    "\n",
    "sns.countplot(outlet_train['Outlet_Size'])\n",
    "plt.show()"
   ]
  },
  {
   "cell_type": "code",
   "execution_count": 34,
   "metadata": {},
   "outputs": [],
   "source": [
    "outlet_train['outlet_null'] = outlet_train['Outlet_Size'].isnull()\n",
    "outlet_test['outlet_null'] = outlet_test['Outlet_Size'].isnull()"
   ]
  },
  {
   "cell_type": "code",
   "execution_count": 35,
   "metadata": {},
   "outputs": [
    {
     "data": {
      "text/html": [
       "<div>\n",
       "<style scoped>\n",
       "    .dataframe tbody tr th:only-of-type {\n",
       "        vertical-align: middle;\n",
       "    }\n",
       "\n",
       "    .dataframe tbody tr th {\n",
       "        vertical-align: top;\n",
       "    }\n",
       "\n",
       "    .dataframe thead th {\n",
       "        text-align: right;\n",
       "    }\n",
       "</style>\n",
       "<table border=\"1\" class=\"dataframe\">\n",
       "  <thead>\n",
       "    <tr style=\"text-align: right;\">\n",
       "      <th></th>\n",
       "      <th></th>\n",
       "      <th></th>\n",
       "      <th>Outlet_Size</th>\n",
       "      <th>outlet_null</th>\n",
       "    </tr>\n",
       "    <tr>\n",
       "      <th>Outlet_Type</th>\n",
       "      <th>Outlet_Location_Type</th>\n",
       "      <th>Outlet_Establishment_Year</th>\n",
       "      <th></th>\n",
       "      <th></th>\n",
       "    </tr>\n",
       "  </thead>\n",
       "  <tbody>\n",
       "    <tr>\n",
       "      <th rowspan=\"2\" valign=\"top\">Grocery Store</th>\n",
       "      <th>Tier 1</th>\n",
       "      <th>1985</th>\n",
       "      <td>528</td>\n",
       "      <td>528</td>\n",
       "    </tr>\n",
       "    <tr>\n",
       "      <th>Tier 3</th>\n",
       "      <th>1998</th>\n",
       "      <td>0</td>\n",
       "      <td>555</td>\n",
       "    </tr>\n",
       "    <tr>\n",
       "      <th rowspan=\"6\" valign=\"top\">Supermarket Type1</th>\n",
       "      <th rowspan=\"2\" valign=\"top\">Tier 1</th>\n",
       "      <th>1997</th>\n",
       "      <td>930</td>\n",
       "      <td>930</td>\n",
       "    </tr>\n",
       "    <tr>\n",
       "      <th>1999</th>\n",
       "      <td>930</td>\n",
       "      <td>930</td>\n",
       "    </tr>\n",
       "    <tr>\n",
       "      <th rowspan=\"3\" valign=\"top\">Tier 2</th>\n",
       "      <th>2002</th>\n",
       "      <td>0</td>\n",
       "      <td>929</td>\n",
       "    </tr>\n",
       "    <tr>\n",
       "      <th>2004</th>\n",
       "      <td>930</td>\n",
       "      <td>930</td>\n",
       "    </tr>\n",
       "    <tr>\n",
       "      <th>2007</th>\n",
       "      <td>0</td>\n",
       "      <td>926</td>\n",
       "    </tr>\n",
       "    <tr>\n",
       "      <th>Tier 3</th>\n",
       "      <th>1987</th>\n",
       "      <td>932</td>\n",
       "      <td>932</td>\n",
       "    </tr>\n",
       "    <tr>\n",
       "      <th>Supermarket Type2</th>\n",
       "      <th>Tier 3</th>\n",
       "      <th>2009</th>\n",
       "      <td>928</td>\n",
       "      <td>928</td>\n",
       "    </tr>\n",
       "    <tr>\n",
       "      <th>Supermarket Type3</th>\n",
       "      <th>Tier 3</th>\n",
       "      <th>1985</th>\n",
       "      <td>935</td>\n",
       "      <td>935</td>\n",
       "    </tr>\n",
       "  </tbody>\n",
       "</table>\n",
       "</div>"
      ],
      "text/plain": [
       "                                                                  Outlet_Size  \\\n",
       "Outlet_Type       Outlet_Location_Type Outlet_Establishment_Year                \n",
       "Grocery Store     Tier 1               1985                               528   \n",
       "                  Tier 3               1998                                 0   \n",
       "Supermarket Type1 Tier 1               1997                               930   \n",
       "                                       1999                               930   \n",
       "                  Tier 2               2002                                 0   \n",
       "                                       2004                               930   \n",
       "                                       2007                                 0   \n",
       "                  Tier 3               1987                               932   \n",
       "Supermarket Type2 Tier 3               2009                               928   \n",
       "Supermarket Type3 Tier 3               1985                               935   \n",
       "\n",
       "                                                                  outlet_null  \n",
       "Outlet_Type       Outlet_Location_Type Outlet_Establishment_Year               \n",
       "Grocery Store     Tier 1               1985                               528  \n",
       "                  Tier 3               1998                               555  \n",
       "Supermarket Type1 Tier 1               1997                               930  \n",
       "                                       1999                               930  \n",
       "                  Tier 2               2002                               929  \n",
       "                                       2004                               930  \n",
       "                                       2007                               926  \n",
       "                  Tier 3               1987                               932  \n",
       "Supermarket Type2 Tier 3               2009                               928  \n",
       "Supermarket Type3 Tier 3               1985                               935  "
      ]
     },
     "execution_count": 35,
     "metadata": {},
     "output_type": "execute_result"
    }
   ],
   "source": [
    "# All the records and null values grouped by outlet_type, outlet_location_type, establishment year\n",
    "outlet_train.drop(columns=['Outlet_Identifier']).groupby(['Outlet_Type','Outlet_Location_Type','Outlet_Establishment_Year']).count()\n",
    "\n",
    "# We can see some particular pattern is present for the missing values.\n",
    "# Only Grocery store in Tier 3 data is missing\n",
    "# and Supermarket Type1 in Tier 2 data is missing"
   ]
  },
  {
   "cell_type": "code",
   "execution_count": 36,
   "metadata": {},
   "outputs": [
    {
     "data": {
      "text/html": [
       "<div>\n",
       "<style scoped>\n",
       "    .dataframe tbody tr th:only-of-type {\n",
       "        vertical-align: middle;\n",
       "    }\n",
       "\n",
       "    .dataframe tbody tr th {\n",
       "        vertical-align: top;\n",
       "    }\n",
       "\n",
       "    .dataframe thead th {\n",
       "        text-align: right;\n",
       "    }\n",
       "</style>\n",
       "<table border=\"1\" class=\"dataframe\">\n",
       "  <thead>\n",
       "    <tr style=\"text-align: right;\">\n",
       "      <th></th>\n",
       "      <th>Outlet_Establishment_Year</th>\n",
       "      <th>Outlet_Size</th>\n",
       "      <th>Outlet_Location_Type</th>\n",
       "      <th>Outlet_Type</th>\n",
       "      <th>outlet_null</th>\n",
       "    </tr>\n",
       "    <tr>\n",
       "      <th>Outlet_Identifier</th>\n",
       "      <th></th>\n",
       "      <th></th>\n",
       "      <th></th>\n",
       "      <th></th>\n",
       "      <th></th>\n",
       "    </tr>\n",
       "  </thead>\n",
       "  <tbody>\n",
       "    <tr>\n",
       "      <th>OUT010</th>\n",
       "      <td>555</td>\n",
       "      <td>0</td>\n",
       "      <td>555</td>\n",
       "      <td>555</td>\n",
       "      <td>555</td>\n",
       "    </tr>\n",
       "    <tr>\n",
       "      <th>OUT013</th>\n",
       "      <td>932</td>\n",
       "      <td>932</td>\n",
       "      <td>932</td>\n",
       "      <td>932</td>\n",
       "      <td>932</td>\n",
       "    </tr>\n",
       "    <tr>\n",
       "      <th>OUT017</th>\n",
       "      <td>926</td>\n",
       "      <td>0</td>\n",
       "      <td>926</td>\n",
       "      <td>926</td>\n",
       "      <td>926</td>\n",
       "    </tr>\n",
       "    <tr>\n",
       "      <th>OUT018</th>\n",
       "      <td>928</td>\n",
       "      <td>928</td>\n",
       "      <td>928</td>\n",
       "      <td>928</td>\n",
       "      <td>928</td>\n",
       "    </tr>\n",
       "    <tr>\n",
       "      <th>OUT019</th>\n",
       "      <td>528</td>\n",
       "      <td>528</td>\n",
       "      <td>528</td>\n",
       "      <td>528</td>\n",
       "      <td>528</td>\n",
       "    </tr>\n",
       "    <tr>\n",
       "      <th>OUT027</th>\n",
       "      <td>935</td>\n",
       "      <td>935</td>\n",
       "      <td>935</td>\n",
       "      <td>935</td>\n",
       "      <td>935</td>\n",
       "    </tr>\n",
       "    <tr>\n",
       "      <th>OUT035</th>\n",
       "      <td>930</td>\n",
       "      <td>930</td>\n",
       "      <td>930</td>\n",
       "      <td>930</td>\n",
       "      <td>930</td>\n",
       "    </tr>\n",
       "    <tr>\n",
       "      <th>OUT045</th>\n",
       "      <td>929</td>\n",
       "      <td>0</td>\n",
       "      <td>929</td>\n",
       "      <td>929</td>\n",
       "      <td>929</td>\n",
       "    </tr>\n",
       "    <tr>\n",
       "      <th>OUT046</th>\n",
       "      <td>930</td>\n",
       "      <td>930</td>\n",
       "      <td>930</td>\n",
       "      <td>930</td>\n",
       "      <td>930</td>\n",
       "    </tr>\n",
       "    <tr>\n",
       "      <th>OUT049</th>\n",
       "      <td>930</td>\n",
       "      <td>930</td>\n",
       "      <td>930</td>\n",
       "      <td>930</td>\n",
       "      <td>930</td>\n",
       "    </tr>\n",
       "  </tbody>\n",
       "</table>\n",
       "</div>"
      ],
      "text/plain": [
       "                   Outlet_Establishment_Year  Outlet_Size  \\\n",
       "Outlet_Identifier                                           \n",
       "OUT010                                   555            0   \n",
       "OUT013                                   932          932   \n",
       "OUT017                                   926            0   \n",
       "OUT018                                   928          928   \n",
       "OUT019                                   528          528   \n",
       "OUT027                                   935          935   \n",
       "OUT035                                   930          930   \n",
       "OUT045                                   929            0   \n",
       "OUT046                                   930          930   \n",
       "OUT049                                   930          930   \n",
       "\n",
       "                   Outlet_Location_Type  Outlet_Type  outlet_null  \n",
       "Outlet_Identifier                                                  \n",
       "OUT010                              555          555          555  \n",
       "OUT013                              932          932          932  \n",
       "OUT017                              926          926          926  \n",
       "OUT018                              928          928          928  \n",
       "OUT019                              528          528          528  \n",
       "OUT027                              935          935          935  \n",
       "OUT035                              930          930          930  \n",
       "OUT045                              929          929          929  \n",
       "OUT046                              930          930          930  \n",
       "OUT049                              930          930          930  "
      ]
     },
     "execution_count": 36,
     "metadata": {},
     "output_type": "execute_result"
    }
   ],
   "source": [
    "# All the missing outlet_size values are belongs to come particular outler_identifier\n",
    "outlet_train.groupby(by='Outlet_Identifier').count()\n",
    "\n",
    "# Those missing values are actually belongs to particular outlet_identifier\n",
    "# only 3 outlet_identifier is having missing values i.e. OUT010, OUT017 and OUT045"
   ]
  },
  {
   "cell_type": "code",
   "execution_count": 37,
   "metadata": {},
   "outputs": [
    {
     "data": {
      "text/html": [
       "<div>\n",
       "<style scoped>\n",
       "    .dataframe tbody tr th:only-of-type {\n",
       "        vertical-align: middle;\n",
       "    }\n",
       "\n",
       "    .dataframe tbody tr th {\n",
       "        vertical-align: top;\n",
       "    }\n",
       "\n",
       "    .dataframe thead th {\n",
       "        text-align: right;\n",
       "    }\n",
       "</style>\n",
       "<table border=\"1\" class=\"dataframe\">\n",
       "  <thead>\n",
       "    <tr style=\"text-align: right;\">\n",
       "      <th></th>\n",
       "      <th>Outlet_Identifier</th>\n",
       "      <th>Outlet_Establishment_Year</th>\n",
       "      <th>Outlet_Size</th>\n",
       "      <th>Outlet_Location_Type</th>\n",
       "      <th>Outlet_Type</th>\n",
       "      <th>outlet_null</th>\n",
       "    </tr>\n",
       "  </thead>\n",
       "  <tbody>\n",
       "    <tr>\n",
       "      <th>3</th>\n",
       "      <td>OUT010</td>\n",
       "      <td>1998</td>\n",
       "      <td>NaN</td>\n",
       "      <td>Tier 3</td>\n",
       "      <td>Grocery Store</td>\n",
       "      <td>True</td>\n",
       "    </tr>\n",
       "    <tr>\n",
       "      <th>4</th>\n",
       "      <td>OUT013</td>\n",
       "      <td>1987</td>\n",
       "      <td>High</td>\n",
       "      <td>Tier 3</td>\n",
       "      <td>Supermarket Type1</td>\n",
       "      <td>False</td>\n",
       "    </tr>\n",
       "    <tr>\n",
       "      <th>9</th>\n",
       "      <td>OUT017</td>\n",
       "      <td>2007</td>\n",
       "      <td>NaN</td>\n",
       "      <td>Tier 2</td>\n",
       "      <td>Supermarket Type1</td>\n",
       "      <td>True</td>\n",
       "    </tr>\n",
       "    <tr>\n",
       "      <th>1</th>\n",
       "      <td>OUT018</td>\n",
       "      <td>2009</td>\n",
       "      <td>Medium</td>\n",
       "      <td>Tier 3</td>\n",
       "      <td>Supermarket Type2</td>\n",
       "      <td>False</td>\n",
       "    </tr>\n",
       "    <tr>\n",
       "      <th>23</th>\n",
       "      <td>OUT019</td>\n",
       "      <td>1985</td>\n",
       "      <td>Small</td>\n",
       "      <td>Tier 1</td>\n",
       "      <td>Grocery Store</td>\n",
       "      <td>False</td>\n",
       "    </tr>\n",
       "    <tr>\n",
       "      <th>7</th>\n",
       "      <td>OUT027</td>\n",
       "      <td>1985</td>\n",
       "      <td>Medium</td>\n",
       "      <td>Tier 3</td>\n",
       "      <td>Supermarket Type3</td>\n",
       "      <td>False</td>\n",
       "    </tr>\n",
       "    <tr>\n",
       "      <th>19</th>\n",
       "      <td>OUT035</td>\n",
       "      <td>2004</td>\n",
       "      <td>Small</td>\n",
       "      <td>Tier 2</td>\n",
       "      <td>Supermarket Type1</td>\n",
       "      <td>False</td>\n",
       "    </tr>\n",
       "    <tr>\n",
       "      <th>8</th>\n",
       "      <td>OUT045</td>\n",
       "      <td>2002</td>\n",
       "      <td>NaN</td>\n",
       "      <td>Tier 2</td>\n",
       "      <td>Supermarket Type1</td>\n",
       "      <td>True</td>\n",
       "    </tr>\n",
       "    <tr>\n",
       "      <th>11</th>\n",
       "      <td>OUT046</td>\n",
       "      <td>1997</td>\n",
       "      <td>Small</td>\n",
       "      <td>Tier 1</td>\n",
       "      <td>Supermarket Type1</td>\n",
       "      <td>False</td>\n",
       "    </tr>\n",
       "    <tr>\n",
       "      <th>0</th>\n",
       "      <td>OUT049</td>\n",
       "      <td>1999</td>\n",
       "      <td>Medium</td>\n",
       "      <td>Tier 1</td>\n",
       "      <td>Supermarket Type1</td>\n",
       "      <td>False</td>\n",
       "    </tr>\n",
       "  </tbody>\n",
       "</table>\n",
       "</div>"
      ],
      "text/plain": [
       "   Outlet_Identifier  Outlet_Establishment_Year Outlet_Size  \\\n",
       "3             OUT010                       1998         NaN   \n",
       "4             OUT013                       1987        High   \n",
       "9             OUT017                       2007         NaN   \n",
       "1             OUT018                       2009      Medium   \n",
       "23            OUT019                       1985       Small   \n",
       "7             OUT027                       1985      Medium   \n",
       "19            OUT035                       2004       Small   \n",
       "8             OUT045                       2002         NaN   \n",
       "11            OUT046                       1997       Small   \n",
       "0             OUT049                       1999      Medium   \n",
       "\n",
       "   Outlet_Location_Type        Outlet_Type  outlet_null  \n",
       "3                Tier 3      Grocery Store         True  \n",
       "4                Tier 3  Supermarket Type1        False  \n",
       "9                Tier 2  Supermarket Type1         True  \n",
       "1                Tier 3  Supermarket Type2        False  \n",
       "23               Tier 1      Grocery Store        False  \n",
       "7                Tier 3  Supermarket Type3        False  \n",
       "19               Tier 2  Supermarket Type1        False  \n",
       "8                Tier 2  Supermarket Type1         True  \n",
       "11               Tier 1  Supermarket Type1        False  \n",
       "0                Tier 1  Supermarket Type1        False  "
      ]
     },
     "execution_count": 37,
     "metadata": {},
     "output_type": "execute_result"
    }
   ],
   "source": [
    "# Every outlet description\n",
    "outlet_train[ outlet_train.duplicated() == False ].sort_values(by='Outlet_Identifier')\n",
    "\n",
    "# For OUT017 and OUT045 both belongs to Tier2 and Supermarket Type1. We can inpute the missing values with Small\n",
    "# since for OUT035, also belongs to Tier2 and Supermarket Type1 and have 'Small' outlet size.\n",
    "\n",
    "# For 'OUT010', imputing it with 'Small' since grocery store would be smaller in size as compared to supermarkets"
   ]
  },
  {
   "cell_type": "code",
   "execution_count": 38,
   "metadata": {},
   "outputs": [],
   "source": [
    "# Imputing outlet size with 'Small'\n",
    "outlet_train.loc[ (outlet_train['Outlet_Size'].isnull()) , 'Outlet_Size' ] = 'Small'"
   ]
  },
  {
   "cell_type": "raw",
   "metadata": {},
   "source": [
    "outlet_train.loc[ (outlet_train['Outlet_Identifier'] == 'OUT017') , 'Outlet_Size' ] = 'Small'\n",
    "outlet_train.loc[ (outlet_train['Outlet_Identifier'] == 'OUT045') , 'Outlet_Size' ] = 'Small'\n",
    "outlet_train.loc[ (outlet_train['Outlet_Identifier'] == 'OUT010') , 'Outlet_Size' ] = 'Small'"
   ]
  },
  {
   "cell_type": "raw",
   "metadata": {},
   "source": [
    "outlet_test.loc[ (outlet_test['Outlet_Identifier'] == 'OUT017') , 'Outlet_Size' ] = 'Small'\n",
    "outlet_test.loc[ (outlet_test['Outlet_Identifier'] == 'OUT045') , 'Outlet_Size' ] = 'Small'\n",
    "outlet_test.loc[ (outlet_test['Outlet_Identifier'] == 'OUT010') , 'Outlet_Size' ] = 'Small'"
   ]
  },
  {
   "cell_type": "code",
   "execution_count": 39,
   "metadata": {},
   "outputs": [],
   "source": [
    "outlet_train = outlet_train.drop(columns=['outlet_null'])\n",
    "outlet_test = outlet_test.drop(columns=['outlet_null'])"
   ]
  },
  {
   "cell_type": "markdown",
   "metadata": {},
   "source": [
    "### Joining Item /Outlet"
   ]
  },
  {
   "cell_type": "code",
   "execution_count": 40,
   "metadata": {},
   "outputs": [],
   "source": [
    "y = df['Item_Outlet_Sales']"
   ]
  },
  {
   "cell_type": "code",
   "execution_count": 41,
   "metadata": {},
   "outputs": [
    {
     "data": {
      "text/html": [
       "<div>\n",
       "<style scoped>\n",
       "    .dataframe tbody tr th:only-of-type {\n",
       "        vertical-align: middle;\n",
       "    }\n",
       "\n",
       "    .dataframe tbody tr th {\n",
       "        vertical-align: top;\n",
       "    }\n",
       "\n",
       "    .dataframe thead th {\n",
       "        text-align: right;\n",
       "    }\n",
       "</style>\n",
       "<table border=\"1\" class=\"dataframe\">\n",
       "  <thead>\n",
       "    <tr style=\"text-align: right;\">\n",
       "      <th></th>\n",
       "      <th>Item_Identifier</th>\n",
       "      <th>Item_Weight</th>\n",
       "      <th>Item_Fat_Content</th>\n",
       "      <th>Item_Visibility</th>\n",
       "      <th>Item_Type</th>\n",
       "      <th>Item_MRP</th>\n",
       "      <th>Outlet_Identifier</th>\n",
       "      <th>Outlet_Establishment_Year</th>\n",
       "      <th>Outlet_Size</th>\n",
       "      <th>Outlet_Location_Type</th>\n",
       "      <th>Outlet_Type</th>\n",
       "    </tr>\n",
       "  </thead>\n",
       "  <tbody>\n",
       "    <tr>\n",
       "      <th>0</th>\n",
       "      <td>FDA15</td>\n",
       "      <td>-0.769651</td>\n",
       "      <td>low</td>\n",
       "      <td>-0.970732</td>\n",
       "      <td>Dairy</td>\n",
       "      <td>1.747454</td>\n",
       "      <td>OUT049</td>\n",
       "      <td>1999</td>\n",
       "      <td>Medium</td>\n",
       "      <td>Tier 1</td>\n",
       "      <td>Supermarket Type1</td>\n",
       "    </tr>\n",
       "    <tr>\n",
       "      <th>1</th>\n",
       "      <td>DRC01</td>\n",
       "      <td>-1.497267</td>\n",
       "      <td>regular</td>\n",
       "      <td>-0.908111</td>\n",
       "      <td>Soft Drinks</td>\n",
       "      <td>-1.489023</td>\n",
       "      <td>OUT018</td>\n",
       "      <td>2009</td>\n",
       "      <td>Medium</td>\n",
       "      <td>Tier 3</td>\n",
       "      <td>Supermarket Type2</td>\n",
       "    </tr>\n",
       "    <tr>\n",
       "      <th>2</th>\n",
       "      <td>FDN15</td>\n",
       "      <td>0.995570</td>\n",
       "      <td>low</td>\n",
       "      <td>-0.956917</td>\n",
       "      <td>Meat</td>\n",
       "      <td>0.010040</td>\n",
       "      <td>OUT049</td>\n",
       "      <td>1999</td>\n",
       "      <td>Medium</td>\n",
       "      <td>Tier 1</td>\n",
       "      <td>Supermarket Type1</td>\n",
       "    </tr>\n",
       "  </tbody>\n",
       "</table>\n",
       "</div>"
      ],
      "text/plain": [
       "  Item_Identifier  Item_Weight Item_Fat_Content  Item_Visibility    Item_Type  \\\n",
       "0           FDA15    -0.769651              low        -0.970732        Dairy   \n",
       "1           DRC01    -1.497267          regular        -0.908111  Soft Drinks   \n",
       "2           FDN15     0.995570              low        -0.956917         Meat   \n",
       "\n",
       "   Item_MRP Outlet_Identifier  Outlet_Establishment_Year Outlet_Size  \\\n",
       "0  1.747454            OUT049                       1999      Medium   \n",
       "1 -1.489023            OUT018                       2009      Medium   \n",
       "2  0.010040            OUT049                       1999      Medium   \n",
       "\n",
       "  Outlet_Location_Type        Outlet_Type  \n",
       "0               Tier 1  Supermarket Type1  \n",
       "1               Tier 3  Supermarket Type2  \n",
       "2               Tier 1  Supermarket Type1  "
      ]
     },
     "execution_count": 41,
     "metadata": {},
     "output_type": "execute_result"
    }
   ],
   "source": [
    "x = pd.concat([item_train, outlet_train], axis=1)\n",
    "x.head(3)"
   ]
  },
  {
   "cell_type": "code",
   "execution_count": 42,
   "metadata": {},
   "outputs": [
    {
     "data": {
      "text/html": [
       "<div>\n",
       "<style scoped>\n",
       "    .dataframe tbody tr th:only-of-type {\n",
       "        vertical-align: middle;\n",
       "    }\n",
       "\n",
       "    .dataframe tbody tr th {\n",
       "        vertical-align: top;\n",
       "    }\n",
       "\n",
       "    .dataframe thead th {\n",
       "        text-align: right;\n",
       "    }\n",
       "</style>\n",
       "<table border=\"1\" class=\"dataframe\">\n",
       "  <thead>\n",
       "    <tr style=\"text-align: right;\">\n",
       "      <th></th>\n",
       "      <th>Item_Identifier</th>\n",
       "      <th>Item_Weight</th>\n",
       "      <th>Item_Fat_Content</th>\n",
       "      <th>Item_Visibility</th>\n",
       "      <th>Item_Type</th>\n",
       "      <th>Item_MRP</th>\n",
       "      <th>Outlet_Identifier</th>\n",
       "      <th>Outlet_Establishment_Year</th>\n",
       "      <th>Outlet_Size</th>\n",
       "      <th>Outlet_Location_Type</th>\n",
       "      <th>Outlet_Type</th>\n",
       "    </tr>\n",
       "  </thead>\n",
       "  <tbody>\n",
       "    <tr>\n",
       "      <th>0</th>\n",
       "      <td>FDW58</td>\n",
       "      <td>1.695201</td>\n",
       "      <td>low</td>\n",
       "      <td>-1.135138</td>\n",
       "      <td>Snack Foods</td>\n",
       "      <td>-0.532035</td>\n",
       "      <td>OUT049</td>\n",
       "      <td>1999</td>\n",
       "      <td>Medium</td>\n",
       "      <td>Tier 1</td>\n",
       "      <td>Supermarket Type1</td>\n",
       "    </tr>\n",
       "    <tr>\n",
       "      <th>1</th>\n",
       "      <td>FDW14</td>\n",
       "      <td>-0.984922</td>\n",
       "      <td>regular</td>\n",
       "      <td>-0.536960</td>\n",
       "      <td>Dairy</td>\n",
       "      <td>-0.861920</td>\n",
       "      <td>OUT017</td>\n",
       "      <td>2007</td>\n",
       "      <td>NaN</td>\n",
       "      <td>Tier 2</td>\n",
       "      <td>Supermarket Type1</td>\n",
       "    </tr>\n",
       "    <tr>\n",
       "      <th>2</th>\n",
       "      <td>NCN55</td>\n",
       "      <td>0.371284</td>\n",
       "      <td>low</td>\n",
       "      <td>0.648183</td>\n",
       "      <td>Others</td>\n",
       "      <td>1.618094</td>\n",
       "      <td>OUT010</td>\n",
       "      <td>1998</td>\n",
       "      <td>NaN</td>\n",
       "      <td>Tier 3</td>\n",
       "      <td>Grocery Store</td>\n",
       "    </tr>\n",
       "  </tbody>\n",
       "</table>\n",
       "</div>"
      ],
      "text/plain": [
       "  Item_Identifier  Item_Weight Item_Fat_Content  Item_Visibility    Item_Type  \\\n",
       "0           FDW58     1.695201              low        -1.135138  Snack Foods   \n",
       "1           FDW14    -0.984922          regular        -0.536960        Dairy   \n",
       "2           NCN55     0.371284              low         0.648183       Others   \n",
       "\n",
       "   Item_MRP Outlet_Identifier  Outlet_Establishment_Year Outlet_Size  \\\n",
       "0 -0.532035            OUT049                       1999      Medium   \n",
       "1 -0.861920            OUT017                       2007         NaN   \n",
       "2  1.618094            OUT010                       1998         NaN   \n",
       "\n",
       "  Outlet_Location_Type        Outlet_Type  \n",
       "0               Tier 1  Supermarket Type1  \n",
       "1               Tier 2  Supermarket Type1  \n",
       "2               Tier 3      Grocery Store  "
      ]
     },
     "execution_count": 42,
     "metadata": {},
     "output_type": "execute_result"
    }
   ],
   "source": [
    "test = pd.concat([item_test, outlet_test], axis=1)\n",
    "test.head(3)"
   ]
  },
  {
   "cell_type": "markdown",
   "metadata": {},
   "source": [
    "## EDA"
   ]
  },
  {
   "cell_type": "code",
   "execution_count": 43,
   "metadata": {},
   "outputs": [],
   "source": [
    "df1 = pd.concat([x,y], axis=1)"
   ]
  },
  {
   "cell_type": "code",
   "execution_count": 44,
   "metadata": {},
   "outputs": [
    {
     "data": {
      "text/plain": [
       "(8523, 12)"
      ]
     },
     "execution_count": 44,
     "metadata": {},
     "output_type": "execute_result"
    }
   ],
   "source": [
    "df1.shape"
   ]
  },
  {
   "cell_type": "code",
   "execution_count": 45,
   "metadata": {},
   "outputs": [
    {
     "data": {
      "image/png": "[encoded data removed]",
      "text/plain": [
       "<Figure size 864x360 with 1 Axes>"
      ]
     },
     "metadata": {
      "needs_background": "light"
     },
     "output_type": "display_data"
    }
   ],
   "source": [
    "# Number of sales by outlet_identifier\n",
    "plt.figure(figsize=(12,5))\n",
    "sns.countplot(x = df1['Outlet_Identifier'])\n",
    "plt.show()"
   ]
  },
  {
   "cell_type": "code",
   "execution_count": 46,
   "metadata": {},
   "outputs": [
    {
     "data": {
      "image/png": "[encoded data removed]",
      "text/plain": [
       "<Figure size 360x360 with 1 Axes>"
      ]
     },
     "metadata": {
      "needs_background": "light"
     },
     "output_type": "display_data"
    }
   ],
   "source": [
    "# Number of sales by Fat_count\n",
    "plt.figure(figsize=(5,5))\n",
    "sns.countplot(x = df1['Item_Fat_Content'])\n",
    "plt.show()"
   ]
  },
  {
   "cell_type": "code",
   "execution_count": 47,
   "metadata": {},
   "outputs": [
    {
     "data": {
      "image/png": "[encoded data removed]",
      "text/plain": [
       "<Figure size 432x288 with 2 Axes>"
      ]
     },
     "metadata": {
      "needs_background": "light"
     },
     "output_type": "display_data"
    }
   ],
   "source": [
    "# Checking correlation\n",
    "sns.heatmap( df1.corr(), annot=True )\n",
    "plt.show()"
   ]
  },
  {
   "cell_type": "code",
   "execution_count": 48,
   "metadata": {},
   "outputs": [
    {
     "data": {
      "text/plain": [
       "Index(['Item_Identifier', 'Item_Weight', 'Item_Fat_Content', 'Item_Visibility',\n",
       "       'Item_Type', 'Item_MRP', 'Outlet_Identifier',\n",
       "       'Outlet_Establishment_Year', 'Outlet_Size', 'Outlet_Location_Type',\n",
       "       'Outlet_Type', 'Item_Outlet_Sales'],\n",
       "      dtype='object')"
      ]
     },
     "execution_count": 48,
     "metadata": {},
     "output_type": "execute_result"
    }
   ],
   "source": [
    "df1.columns"
   ]
  },
  {
   "cell_type": "code",
   "execution_count": 49,
   "metadata": {},
   "outputs": [
    {
     "data": {
      "image/png": "[encoded data removed]",
      "text/plain": [
       "<Figure size 1080x360 with 1 Axes>"
      ]
     },
     "metadata": {
      "needs_background": "light"
     },
     "output_type": "display_data"
    }
   ],
   "source": [
    "# We can see item_mrp is aving mild positive correlaton with item_outlet_sales\n",
    "plt.figure(figsize=(15,5))\n",
    "sns.scatterplot(x = df1['Item_MRP'], y = df1['Item_Outlet_Sales'])\n",
    "plt.show()\n",
    "\n",
    "# As the MRP is high, Sales is also getting higher."
   ]
  },
  {
   "cell_type": "code",
   "execution_count": 50,
   "metadata": {},
   "outputs": [
    {
     "data": {
      "image/png": "[encoded data removed]",
      "text/plain": [
       "<Figure size 1080x360 with 1 Axes>"
      ]
     },
     "metadata": {
      "needs_background": "light"
     },
     "output_type": "display_data"
    }
   ],
   "source": [
    "plt.figure(figsize=(15,5))\n",
    "sns.scatterplot(x = df1['Item_Visibility'], y = df1['Item_Outlet_Sales'])\n",
    "plt.show()"
   ]
  },
  {
   "cell_type": "code",
   "execution_count": 51,
   "metadata": {},
   "outputs": [
    {
     "data": {
      "image/png": "[encoded data removed]",
      "text/plain": [
       "<Figure size 1080x360 with 1 Axes>"
      ]
     },
     "metadata": {
      "needs_background": "light"
     },
     "output_type": "display_data"
    }
   ],
   "source": [
    "plt.figure(figsize=(15,5))\n",
    "sns.boxplot(x='Item_Type',y='Item_Outlet_Sales',data=df1)\n",
    "plt.xticks(rotation=90)\n",
    "plt.show()"
   ]
  },
  {
   "cell_type": "code",
   "execution_count": 52,
   "metadata": {},
   "outputs": [
    {
     "data": {
      "image/png": "[encoded data removed]",
      "text/plain": [
       "<Figure size 1080x360 with 1 Axes>"
      ]
     },
     "metadata": {
      "needs_background": "light"
     },
     "output_type": "display_data"
    }
   ],
   "source": [
    "plt.figure(figsize=(15,5))\n",
    "sns.boxplot(x='Outlet_Identifier',y='Item_Outlet_Sales',data=df1)\n",
    "plt.show()"
   ]
  },
  {
   "cell_type": "markdown",
   "metadata": {},
   "source": [
    "## One Hot Encoding"
   ]
  },
  {
   "cell_type": "code",
   "execution_count": 53,
   "metadata": {},
   "outputs": [],
   "source": [
    "# Removing Unique columns i.e, Item_Identifier\n",
    "x = x.drop(columns=['Item_Identifier'])\n",
    "test = test.drop(columns=['Item_Identifier'])"
   ]
  },
  {
   "cell_type": "code",
   "execution_count": 54,
   "metadata": {},
   "outputs": [],
   "source": [
    "# Chaning outlet_establishment_year to numerical by changing it to how long it was operating.\n",
    "x['Outlet_Establishment_Year'] = x['Outlet_Establishment_Year'].apply(lambda x : 2020-x)\n",
    "\n",
    "st = StandardScaler()\n",
    "\n",
    "x['Outlet_Establishment_Year'] = st.fit_transform(x[['Outlet_Establishment_Year']])\n",
    "\n",
    "test['Outlet_Establishment_Year'] = test['Outlet_Establishment_Year'].apply(lambda x : 2020-x)\n",
    "test['Outlet_Establishment_Year'] = st.transform(test[['Outlet_Establishment_Year']])"
   ]
  },
  {
   "cell_type": "code",
   "execution_count": 55,
   "metadata": {},
   "outputs": [],
   "source": [
    "# Since Outlet size is ordinal to changing it to -1, 0 and 1 for small , medium and high\n",
    "x['Outlet_Size'] = x['Outlet_Size'].map({'Small':-1, 'Medium':0, 'High':1})\n",
    "test['Outlet_Size'] = test['Outlet_Size'].map({'Small':-1, 'Medium':0, 'High':1})"
   ]
  },
  {
   "cell_type": "raw",
   "metadata": {},
   "source": [
    "# Since Outlet_Location_Type\n",
    "x['Outlet_Location_Type'] = x['Outlet_Location_Type'].map({'Tier 1':-1, 'Tier 2':0, 'Tier 3':1})\n",
    "test['Outlet_Location_Type'] = test['Outlet_Location_Type'].map({'Tier 1':-1, 'Tier 2':0, 'Tier 3':1})"
   ]
  },
  {
   "cell_type": "code",
   "execution_count": 56,
   "metadata": {},
   "outputs": [],
   "source": [
    "def f1(data):\n",
    "    num_data = data.select_dtypes(include=np.number)\n",
    "    cat_data = data.select_dtypes(exclude=np.number)\n",
    "    \n",
    "    cat_data = pd.get_dummies(cat_data, drop_first=True)\n",
    "    data = pd.concat([num_data, cat_data], axis=1, )\n",
    "    return data"
   ]
  },
  {
   "cell_type": "code",
   "execution_count": 57,
   "metadata": {},
   "outputs": [],
   "source": [
    "x = f1(x)\n",
    "test = f1(test)"
   ]
  },
  {
   "cell_type": "code",
   "execution_count": 58,
   "metadata": {},
   "outputs": [
    {
     "data": {
      "text/html": [
       "<div>\n",
       "<style scoped>\n",
       "    .dataframe tbody tr th:only-of-type {\n",
       "        vertical-align: middle;\n",
       "    }\n",
       "\n",
       "    .dataframe tbody tr th {\n",
       "        vertical-align: top;\n",
       "    }\n",
       "\n",
       "    .dataframe thead th {\n",
       "        text-align: right;\n",
       "    }\n",
       "</style>\n",
       "<table border=\"1\" class=\"dataframe\">\n",
       "  <thead>\n",
       "    <tr style=\"text-align: right;\">\n",
       "      <th></th>\n",
       "      <th>Item_Weight</th>\n",
       "      <th>Item_Visibility</th>\n",
       "      <th>Item_MRP</th>\n",
       "      <th>Outlet_Establishment_Year</th>\n",
       "      <th>Outlet_Size</th>\n",
       "      <th>Item_Fat_Content_regular</th>\n",
       "      <th>Item_Type_Breads</th>\n",
       "      <th>Item_Type_Breakfast</th>\n",
       "      <th>Item_Type_Canned</th>\n",
       "      <th>Item_Type_Dairy</th>\n",
       "      <th>Item_Type_Frozen Foods</th>\n",
       "      <th>Item_Type_Fruits and Vegetables</th>\n",
       "      <th>Item_Type_Hard Drinks</th>\n",
       "      <th>Item_Type_Health and Hygiene</th>\n",
       "      <th>Item_Type_Household</th>\n",
       "      <th>Item_Type_Meat</th>\n",
       "      <th>Item_Type_Others</th>\n",
       "      <th>Item_Type_Seafood</th>\n",
       "      <th>Item_Type_Snack Foods</th>\n",
       "      <th>Item_Type_Soft Drinks</th>\n",
       "      <th>Item_Type_Starchy Foods</th>\n",
       "      <th>Outlet_Identifier_OUT013</th>\n",
       "      <th>Outlet_Identifier_OUT017</th>\n",
       "      <th>Outlet_Identifier_OUT018</th>\n",
       "      <th>Outlet_Identifier_OUT019</th>\n",
       "      <th>Outlet_Identifier_OUT027</th>\n",
       "      <th>Outlet_Identifier_OUT035</th>\n",
       "      <th>Outlet_Identifier_OUT045</th>\n",
       "      <th>Outlet_Identifier_OUT046</th>\n",
       "      <th>Outlet_Identifier_OUT049</th>\n",
       "      <th>Outlet_Location_Type_Tier 2</th>\n",
       "      <th>Outlet_Location_Type_Tier 3</th>\n",
       "      <th>Outlet_Type_Supermarket Type1</th>\n",
       "      <th>Outlet_Type_Supermarket Type2</th>\n",
       "      <th>Outlet_Type_Supermarket Type3</th>\n",
       "    </tr>\n",
       "  </thead>\n",
       "  <tbody>\n",
       "    <tr>\n",
       "      <th>0</th>\n",
       "      <td>-0.769651</td>\n",
       "      <td>-0.970732</td>\n",
       "      <td>1.747454</td>\n",
       "      <td>-0.139541</td>\n",
       "      <td>0</td>\n",
       "      <td>0</td>\n",
       "      <td>0</td>\n",
       "      <td>0</td>\n",
       "      <td>0</td>\n",
       "      <td>1</td>\n",
       "      <td>0</td>\n",
       "      <td>0</td>\n",
       "      <td>0</td>\n",
       "      <td>0</td>\n",
       "      <td>0</td>\n",
       "      <td>0</td>\n",
       "      <td>0</td>\n",
       "      <td>0</td>\n",
       "      <td>0</td>\n",
       "      <td>0</td>\n",
       "      <td>0</td>\n",
       "      <td>0</td>\n",
       "      <td>0</td>\n",
       "      <td>0</td>\n",
       "      <td>0</td>\n",
       "      <td>0</td>\n",
       "      <td>0</td>\n",
       "      <td>0</td>\n",
       "      <td>0</td>\n",
       "      <td>1</td>\n",
       "      <td>0</td>\n",
       "      <td>0</td>\n",
       "      <td>1</td>\n",
       "      <td>0</td>\n",
       "      <td>0</td>\n",
       "    </tr>\n",
       "    <tr>\n",
       "      <th>1</th>\n",
       "      <td>-1.497267</td>\n",
       "      <td>-0.908111</td>\n",
       "      <td>-1.489023</td>\n",
       "      <td>-1.334103</td>\n",
       "      <td>0</td>\n",
       "      <td>1</td>\n",
       "      <td>0</td>\n",
       "      <td>0</td>\n",
       "      <td>0</td>\n",
       "      <td>0</td>\n",
       "      <td>0</td>\n",
       "      <td>0</td>\n",
       "      <td>0</td>\n",
       "      <td>0</td>\n",
       "      <td>0</td>\n",
       "      <td>0</td>\n",
       "      <td>0</td>\n",
       "      <td>0</td>\n",
       "      <td>0</td>\n",
       "      <td>1</td>\n",
       "      <td>0</td>\n",
       "      <td>0</td>\n",
       "      <td>0</td>\n",
       "      <td>1</td>\n",
       "      <td>0</td>\n",
       "      <td>0</td>\n",
       "      <td>0</td>\n",
       "      <td>0</td>\n",
       "      <td>0</td>\n",
       "      <td>0</td>\n",
       "      <td>0</td>\n",
       "      <td>1</td>\n",
       "      <td>0</td>\n",
       "      <td>1</td>\n",
       "      <td>0</td>\n",
       "    </tr>\n",
       "    <tr>\n",
       "      <th>2</th>\n",
       "      <td>0.995570</td>\n",
       "      <td>-0.956917</td>\n",
       "      <td>0.010040</td>\n",
       "      <td>-0.139541</td>\n",
       "      <td>0</td>\n",
       "      <td>0</td>\n",
       "      <td>0</td>\n",
       "      <td>0</td>\n",
       "      <td>0</td>\n",
       "      <td>0</td>\n",
       "      <td>0</td>\n",
       "      <td>0</td>\n",
       "      <td>0</td>\n",
       "      <td>0</td>\n",
       "      <td>0</td>\n",
       "      <td>1</td>\n",
       "      <td>0</td>\n",
       "      <td>0</td>\n",
       "      <td>0</td>\n",
       "      <td>0</td>\n",
       "      <td>0</td>\n",
       "      <td>0</td>\n",
       "      <td>0</td>\n",
       "      <td>0</td>\n",
       "      <td>0</td>\n",
       "      <td>0</td>\n",
       "      <td>0</td>\n",
       "      <td>0</td>\n",
       "      <td>0</td>\n",
       "      <td>1</td>\n",
       "      <td>0</td>\n",
       "      <td>0</td>\n",
       "      <td>1</td>\n",
       "      <td>0</td>\n",
       "      <td>0</td>\n",
       "    </tr>\n",
       "    <tr>\n",
       "      <th>3</th>\n",
       "      <td>1.361531</td>\n",
       "      <td>-1.281758</td>\n",
       "      <td>0.660050</td>\n",
       "      <td>-0.020085</td>\n",
       "      <td>-1</td>\n",
       "      <td>1</td>\n",
       "      <td>0</td>\n",
       "      <td>0</td>\n",
       "      <td>0</td>\n",
       "      <td>0</td>\n",
       "      <td>0</td>\n",
       "      <td>1</td>\n",
       "      <td>0</td>\n",
       "      <td>0</td>\n",
       "      <td>0</td>\n",
       "      <td>0</td>\n",
       "      <td>0</td>\n",
       "      <td>0</td>\n",
       "      <td>0</td>\n",
       "      <td>0</td>\n",
       "      <td>0</td>\n",
       "      <td>0</td>\n",
       "      <td>0</td>\n",
       "      <td>0</td>\n",
       "      <td>0</td>\n",
       "      <td>0</td>\n",
       "      <td>0</td>\n",
       "      <td>0</td>\n",
       "      <td>0</td>\n",
       "      <td>0</td>\n",
       "      <td>0</td>\n",
       "      <td>1</td>\n",
       "      <td>0</td>\n",
       "      <td>0</td>\n",
       "      <td>0</td>\n",
       "    </tr>\n",
       "    <tr>\n",
       "      <th>4</th>\n",
       "      <td>-0.849302</td>\n",
       "      <td>-1.281758</td>\n",
       "      <td>-1.399220</td>\n",
       "      <td>1.293934</td>\n",
       "      <td>1</td>\n",
       "      <td>0</td>\n",
       "      <td>0</td>\n",
       "      <td>0</td>\n",
       "      <td>0</td>\n",
       "      <td>0</td>\n",
       "      <td>0</td>\n",
       "      <td>0</td>\n",
       "      <td>0</td>\n",
       "      <td>0</td>\n",
       "      <td>1</td>\n",
       "      <td>0</td>\n",
       "      <td>0</td>\n",
       "      <td>0</td>\n",
       "      <td>0</td>\n",
       "      <td>0</td>\n",
       "      <td>0</td>\n",
       "      <td>1</td>\n",
       "      <td>0</td>\n",
       "      <td>0</td>\n",
       "      <td>0</td>\n",
       "      <td>0</td>\n",
       "      <td>0</td>\n",
       "      <td>0</td>\n",
       "      <td>0</td>\n",
       "      <td>0</td>\n",
       "      <td>0</td>\n",
       "      <td>1</td>\n",
       "      <td>1</td>\n",
       "      <td>0</td>\n",
       "      <td>0</td>\n",
       "    </tr>\n",
       "  </tbody>\n",
       "</table>\n",
       "</div>"
      ],
      "text/plain": [
       "   Item_Weight  Item_Visibility  Item_MRP  Outlet_Establishment_Year  \\\n",
       "0    -0.769651        -0.970732  1.747454                  -0.139541   \n",
       "1    -1.497267        -0.908111 -1.489023                  -1.334103   \n",
       "2     0.995570        -0.956917  0.010040                  -0.139541   \n",
       "3     1.361531        -1.281758  0.660050                  -0.020085   \n",
       "4    -0.849302        -1.281758 -1.399220                   1.293934   \n",
       "\n",
       "   Outlet_Size  Item_Fat_Content_regular  Item_Type_Breads  \\\n",
       "0            0                         0                 0   \n",
       "1            0                         1                 0   \n",
       "2            0                         0                 0   \n",
       "3           -1                         1                 0   \n",
       "4            1                         0                 0   \n",
       "\n",
       "   Item_Type_Breakfast  Item_Type_Canned  Item_Type_Dairy  \\\n",
       "0                    0                 0                1   \n",
       "1                    0                 0                0   \n",
       "2                    0                 0                0   \n",
       "3                    0                 0                0   \n",
       "4                    0                 0                0   \n",
       "\n",
       "   Item_Type_Frozen Foods  Item_Type_Fruits and Vegetables  \\\n",
       "0                       0                                0   \n",
       "1                       0                                0   \n",
       "2                       0                                0   \n",
       "3                       0                                1   \n",
       "4                       0                                0   \n",
       "\n",
       "   Item_Type_Hard Drinks  Item_Type_Health and Hygiene  Item_Type_Household  \\\n",
       "0                      0                             0                    0   \n",
       "1                      0                             0                    0   \n",
       "2                      0                             0                    0   \n",
       "3                      0                             0                    0   \n",
       "4                      0                             0                    1   \n",
       "\n",
       "   Item_Type_Meat  Item_Type_Others  Item_Type_Seafood  Item_Type_Snack Foods  \\\n",
       "0               0                 0                  0                      0   \n",
       "1               0                 0                  0                      0   \n",
       "2               1                 0                  0                      0   \n",
       "3               0                 0                  0                      0   \n",
       "4               0                 0                  0                      0   \n",
       "\n",
       "   Item_Type_Soft Drinks  Item_Type_Starchy Foods  Outlet_Identifier_OUT013  \\\n",
       "0                      0                        0                         0   \n",
       "1                      1                        0                         0   \n",
       "2                      0                        0                         0   \n",
       "3                      0                        0                         0   \n",
       "4                      0                        0                         1   \n",
       "\n",
       "   Outlet_Identifier_OUT017  Outlet_Identifier_OUT018  \\\n",
       "0                         0                         0   \n",
       "1                         0                         1   \n",
       "2                         0                         0   \n",
       "3                         0                         0   \n",
       "4                         0                         0   \n",
       "\n",
       "   Outlet_Identifier_OUT019  Outlet_Identifier_OUT027  \\\n",
       "0                         0                         0   \n",
       "1                         0                         0   \n",
       "2                         0                         0   \n",
       "3                         0                         0   \n",
       "4                         0                         0   \n",
       "\n",
       "   Outlet_Identifier_OUT035  Outlet_Identifier_OUT045  \\\n",
       "0                         0                         0   \n",
       "1                         0                         0   \n",
       "2                         0                         0   \n",
       "3                         0                         0   \n",
       "4                         0                         0   \n",
       "\n",
       "   Outlet_Identifier_OUT046  Outlet_Identifier_OUT049  \\\n",
       "0                         0                         1   \n",
       "1                         0                         0   \n",
       "2                         0                         1   \n",
       "3                         0                         0   \n",
       "4                         0                         0   \n",
       "\n",
       "   Outlet_Location_Type_Tier 2  Outlet_Location_Type_Tier 3  \\\n",
       "0                            0                            0   \n",
       "1                            0                            1   \n",
       "2                            0                            0   \n",
       "3                            0                            1   \n",
       "4                            0                            1   \n",
       "\n",
       "   Outlet_Type_Supermarket Type1  Outlet_Type_Supermarket Type2  \\\n",
       "0                              1                              0   \n",
       "1                              0                              1   \n",
       "2                              1                              0   \n",
       "3                              0                              0   \n",
       "4                              1                              0   \n",
       "\n",
       "   Outlet_Type_Supermarket Type3  \n",
       "0                              0  \n",
       "1                              0  \n",
       "2                              0  \n",
       "3                              0  \n",
       "4                              0  "
      ]
     },
     "execution_count": 58,
     "metadata": {},
     "output_type": "execute_result"
    }
   ],
   "source": [
    "x.head()"
   ]
  },
  {
   "cell_type": "code",
   "execution_count": null,
   "metadata": {},
   "outputs": [],
   "source": []
  },
  {
   "cell_type": "markdown",
   "metadata": {},
   "source": [
    "## Train Test Split"
   ]
  },
  {
   "cell_type": "code",
   "execution_count": 59,
   "metadata": {},
   "outputs": [],
   "source": [
    "from sklearn.model_selection import train_test_split\n",
    "xtrain, xtest, ytrain, ytest = train_test_split(x, y, test_size=0.3, random_state=16)"
   ]
  },
  {
   "cell_type": "markdown",
   "metadata": {},
   "source": [
    "## Linear Regression"
   ]
  },
  {
   "cell_type": "code",
   "execution_count": 60,
   "metadata": {},
   "outputs": [],
   "source": [
    "from sklearn.linear_model import LinearRegression\n",
    "from sklearn.metrics import r2_score, mean_squared_error"
   ]
  },
  {
   "cell_type": "code",
   "execution_count": 61,
   "metadata": {},
   "outputs": [
    {
     "name": "stdout",
     "output_type": "stream",
     "text": [
      "0.5640272328170584\n",
      "1136.4989017854568\n",
      "0.5602195546144177\n",
      "1107.6970789105196\n"
     ]
    }
   ],
   "source": [
    "lr = LinearRegression()\n",
    "\n",
    "lr.fit(xtrain, ytrain)\n",
    "\n",
    "ytrain_pred = lr.predict(xtrain)\n",
    "ytest_pred = lr.predict(xtest)\n",
    "\n",
    "print(r2_score(ytrain, ytrain_pred))\n",
    "print(mean_squared_error(ytrain, ytrain_pred)**0.5)\n",
    "\n",
    "print(r2_score(ytest, ytest_pred))\n",
    "print(mean_squared_error(ytest, ytest_pred)**0.5)"
   ]
  },
  {
   "cell_type": "markdown",
   "metadata": {},
   "source": [
    "## Decision Tree"
   ]
  },
  {
   "cell_type": "code",
   "execution_count": 62,
   "metadata": {},
   "outputs": [],
   "source": [
    "from sklearn.tree import DecisionTreeRegressor\n",
    "from sklearn.model_selection import RandomizedSearchCV, GridSearchCV\n",
    "from scipy.stats import randint as sp_randint"
   ]
  },
  {
   "cell_type": "code",
   "execution_count": 63,
   "metadata": {},
   "outputs": [
    {
     "data": {
      "text/plain": [
       "{'max_depth': 5, 'min_samples_leaf': 4, 'min_samples_split': 30}"
      ]
     },
     "execution_count": 63,
     "metadata": {},
     "output_type": "execute_result"
    }
   ],
   "source": [
    "dtree = DecisionTreeRegressor() # estimator\n",
    "\n",
    "\n",
    "param_dist = {'max_depth':sp_randint(1,20),\n",
    "             'min_samples_leaf':sp_randint(1,50),\n",
    "              'min_samples_split':sp_randint(2,50)}\n",
    "\n",
    "\n",
    "rsearch  = RandomizedSearchCV(dtree, param_distributions = param_dist,scoring='neg_mean_squared_error', cv=4) \n",
    "\n",
    "rsearch.fit(x,y)\n",
    "rsearch.best_params_"
   ]
  },
  {
   "cell_type": "code",
   "execution_count": 64,
   "metadata": {},
   "outputs": [
    {
     "name": "stdout",
     "output_type": "stream",
     "text": [
      "RMSE on train data:  1067.854759025516\n",
      "R^2 on train data:  0.6151019628844532\n",
      "RMSE on test data:  1085.797090039382\n",
      "R^2 on test data:  0.5774372203546576\n"
     ]
    }
   ],
   "source": [
    "dtree_rand_tuned = DecisionTreeRegressor(**rsearch.best_params_)\n",
    "dtree_rand_tuned.fit(xtrain,ytrain)\n",
    "\n",
    "\n",
    "ytrain_pred = dtree_rand_tuned.predict(xtrain)\n",
    "print('RMSE on train data: ', mean_squared_error(ytrain, ytrain_pred)**0.5 )\n",
    "print('R^2 on train data: ', r2_score(ytrain, ytrain_pred))\n",
    "\n",
    "\n",
    "ytest_pred = dtree_rand_tuned.predict(xtest)\n",
    "print('RMSE on test data: ', mean_squared_error(ytest, ytest_pred)**0.5 )\n",
    "print('R^2 on test data: ', r2_score(ytest, ytest_pred))"
   ]
  },
  {
   "cell_type": "markdown",
   "metadata": {},
   "source": [
    "## Extra Tree Regressor"
   ]
  },
  {
   "cell_type": "code",
   "execution_count": 65,
   "metadata": {},
   "outputs": [],
   "source": [
    "from sklearn.ensemble import ExtraTreesRegressor"
   ]
  },
  {
   "cell_type": "code",
   "execution_count": 66,
   "metadata": {},
   "outputs": [
    {
     "data": {
      "text/plain": [
       "{'max_depth': 19,\n",
       " 'max_features': 24,\n",
       " 'min_samples_leaf': 46,\n",
       " 'min_samples_split': 46,\n",
       " 'n_estimators': 88}"
      ]
     },
     "execution_count": 66,
     "metadata": {},
     "output_type": "execute_result"
    }
   ],
   "source": [
    "etr = ExtraTreesRegressor()\n",
    "\n",
    "\n",
    "param_dist = { 'n_estimators':sp_randint(50,100),\n",
    "              'max_features': sp_randint(1,25),\n",
    "              'max_depth' : sp_randint(5,20),\n",
    "             'min_samples_leaf':sp_randint(10,50),\n",
    "              'min_samples_split':sp_randint(2,50)}\n",
    "\n",
    "\n",
    "rsearch_etr  = RandomizedSearchCV(estimator=etr, param_distributions = param_dist,scoring='neg_mean_squared_error',\n",
    "                                  cv=4, random_state=4) \n",
    "\n",
    "rsearch_etr.fit(x,y)\n",
    "rsearch_etr.best_params_"
   ]
  },
  {
   "cell_type": "code",
   "execution_count": 67,
   "metadata": {},
   "outputs": [
    {
     "name": "stdout",
     "output_type": "stream",
     "text": [
      "RMSE on train data:  1067.1938717131904\n",
      "R^2 on train data:  0.615578236482462\n",
      "RMSE on test data:  1052.7422717804345\n",
      "R^2 on test data:  0.6027736792164813\n"
     ]
    }
   ],
   "source": [
    "etr_tuned = ExtraTreesRegressor(**rsearch_etr.best_params_)\n",
    "etr_tuned.fit(xtrain, ytrain)\n",
    "\n",
    "ytrain_pred = etr_tuned.predict(xtrain)\n",
    "print('RMSE on train data: ', mean_squared_error(ytrain, ytrain_pred)**0.5) \n",
    "print('R^2 on train data: ', r2_score(ytrain, ytrain_pred))\n",
    "\n",
    "ytest_pred = etr_tuned.predict(xtest)\n",
    "print('RMSE on test data: ', mean_squared_error(ytest, ytest_pred)**0.5)\n",
    "print('R^2 on test data: ', r2_score(ytest, ytest_pred))"
   ]
  },
  {
   "cell_type": "markdown",
   "metadata": {},
   "source": [
    "## Random Forest"
   ]
  },
  {
   "cell_type": "code",
   "execution_count": 68,
   "metadata": {},
   "outputs": [],
   "source": [
    "from sklearn.ensemble import RandomForestRegressor"
   ]
  },
  {
   "cell_type": "code",
   "execution_count": 69,
   "metadata": {},
   "outputs": [
    {
     "data": {
      "text/plain": [
       "{'max_depth': 19,\n",
       " 'max_features': 9,\n",
       " 'min_samples_leaf': 26,\n",
       " 'min_samples_split': 10,\n",
       " 'n_estimators': 121}"
      ]
     },
     "execution_count": 69,
     "metadata": {},
     "output_type": "execute_result"
    }
   ],
   "source": [
    "rf = RandomForestRegressor()\n",
    "\n",
    "\n",
    "param_dist = { 'n_estimators':sp_randint(100,150),\n",
    "              'max_features': sp_randint(1,10),\n",
    "              'max_depth' : sp_randint(5,20),\n",
    "             'min_samples_leaf':sp_randint(10,50),\n",
    "              'min_samples_split':sp_randint(2,50)}\n",
    "\n",
    "\n",
    "rsearch_rf  = RandomizedSearchCV(estimator=rf, param_distributions = param_dist,scoring='neg_mean_squared_error',\n",
    "                                 cv=4, random_state=16) \n",
    "\n",
    "rsearch_rf.fit(x,y)\n",
    "rsearch_rf.best_params_"
   ]
  },
  {
   "cell_type": "code",
   "execution_count": 70,
   "metadata": {},
   "outputs": [
    {
     "name": "stdout",
     "output_type": "stream",
     "text": [
      "RMSE on train data:  1069.1387217677393\n",
      "R^2 on train data:  0.6141758222479398\n",
      "RMSE on test data:  1072.8198501490588\n",
      "R^2 on test data:  0.5874776386798242\n"
     ]
    }
   ],
   "source": [
    "rf= RandomForestRegressor(**rsearch_rf.best_params_)\n",
    "\n",
    "rf.fit(xtrain, ytrain)\n",
    "\n",
    "ytrain_pred = rf.predict(xtrain)\n",
    "print('RMSE on train data: ', mean_squared_error(ytrain, ytrain_pred)**0.5 )\n",
    "print('R^2 on train data: ', r2_score(ytrain, ytrain_pred))\n",
    "\n",
    "\n",
    "ytest_pred = rf.predict(xtest)\n",
    "print('RMSE on test data: ', mean_squared_error(ytest, ytest_pred)**0.5 )\n",
    "print('R^2 on test data: ', r2_score(ytest, ytest_pred))"
   ]
  },
  {
   "cell_type": "markdown",
   "metadata": {},
   "source": [
    "## Gradient Boost"
   ]
  },
  {
   "cell_type": "code",
   "execution_count": 71,
   "metadata": {},
   "outputs": [],
   "source": [
    "from sklearn.ensemble import GradientBoostingRegressor"
   ]
  },
  {
   "cell_type": "code",
   "execution_count": 72,
   "metadata": {},
   "outputs": [
    {
     "name": "stdout",
     "output_type": "stream",
     "text": [
      "RMSE on train data:  1035.2101219755218\n",
      "R^2 on train data:  0.6382751536539546\n",
      "RMSE on test data:  1064.795624146686\n",
      "R^2 on test data:  0.5936255363566236\n"
     ]
    }
   ],
   "source": [
    "gbr = GradientBoostingRegressor(criterion='mse')\n",
    "gbr.fit(xtrain, ytrain)\n",
    "\n",
    "ytrain_pred = gbr.predict(xtrain)\n",
    "print('RMSE on train data: ', mean_squared_error(ytrain, ytrain_pred)**0.5 )\n",
    "print('R^2 on train data: ', r2_score(ytrain, ytrain_pred))\n",
    "\n",
    "\n",
    "ytest_pred = gbr.predict(xtest)\n",
    "print('RMSE on test data: ', mean_squared_error(ytest, ytest_pred)**0.5 )\n",
    "print('R^2 on test data: ', r2_score(ytest, ytest_pred))"
   ]
  },
  {
   "cell_type": "markdown",
   "metadata": {},
   "source": [
    "## LightGBM"
   ]
  },
  {
   "cell_type": "code",
   "execution_count": 73,
   "metadata": {},
   "outputs": [],
   "source": [
    "import lightgbm as lgb"
   ]
  },
  {
   "cell_type": "code",
   "execution_count": 74,
   "metadata": {},
   "outputs": [
    {
     "data": {
      "text/plain": [
       "RandomizedSearchCV(cv=4, estimator=LGBMRegressor(), n_iter=50,\n",
       "                   param_distributions={'learning_rate': <scipy.stats._distn_infrastructure.rv_frozen object at 0x00000251EF8003C8>,\n",
       "                                        'max_depth': <scipy.stats._distn_infrastructure.rv_frozen object at 0x00000251EF800CC8>,\n",
       "                                        'n_estimators': <scipy.stats._distn_infrastructure.rv_frozen object at 0x00000251EF800948>,\n",
       "                                        'num_leaves': <scipy.stats._distn_infrastructure.rv_frozen object at 0x00000251EF7C9148>},\n",
       "                   random_state=4, scoring='neg_mean_squared_error')"
      ]
     },
     "execution_count": 74,
     "metadata": {},
     "output_type": "execute_result"
    }
   ],
   "source": [
    "from scipy.stats import randint as sp_randint\n",
    "from scipy.stats import uniform as sp_uniform\n",
    "\n",
    "lgbmc = lgb.LGBMRegressor()\n",
    "\n",
    "params = {\n",
    "    'n_estimators': sp_randint(100, 200),\n",
    "    'learning_rate': sp_uniform(0, 0.5),\n",
    "    'max_depth': sp_randint(1, 15),\n",
    "    'num_leaves': sp_randint(10, 50)}\n",
    "\n",
    "rsearch_lg = RandomizedSearchCV(lgbmc, param_distributions=params, cv=4, n_iter=50,scoring='neg_mean_squared_error',\n",
    "                                random_state=4)\n",
    "\n",
    "rsearch_lg.fit(x, y)"
   ]
  },
  {
   "cell_type": "code",
   "execution_count": 75,
   "metadata": {},
   "outputs": [
    {
     "name": "stdout",
     "output_type": "stream",
     "text": [
      "RMSE on train data:  1069.1387217677393\n",
      "R^2 on train data:  0.6141758222479398\n",
      "RMSE on test data:  1072.8198501490588\n",
      "R^2 on test data:  0.5874776386798242\n"
     ]
    }
   ],
   "source": [
    "lgbr = lgb.LGBMRegressor(**rsearch_lg.best_params_, random_state=4)  \n",
    "\n",
    "\n",
    "lgbr.fit(xtrain, ytrain)\n",
    "\n",
    "ytrain_pred = lgbr.predict(xtrain)\n",
    "ytest_pred = lgbr.predict(xtest)\n",
    "\n",
    "\n",
    "ytrain_pred = rf.predict(xtrain)\n",
    "print('RMSE on train data: ', mean_squared_error(ytrain, ytrain_pred)**0.5 )\n",
    "print('R^2 on train data: ', r2_score(ytrain, ytrain_pred))\n",
    "\n",
    "\n",
    "ytest_pred = rf.predict(xtest)\n",
    "print('RMSE on test data: ', mean_squared_error(ytest, ytest_pred)**0.5 )\n",
    "print('R^2 on test data: ', r2_score(ytest, ytest_pred))"
   ]
  },
  {
   "cell_type": "markdown",
   "metadata": {},
   "source": [
    "## Stacking Model"
   ]
  },
  {
   "cell_type": "code",
   "execution_count": 76,
   "metadata": {},
   "outputs": [],
   "source": [
    "from sklearn.ensemble import VotingRegressor"
   ]
  },
  {
   "cell_type": "code",
   "execution_count": 77,
   "metadata": {},
   "outputs": [],
   "source": [
    "rf_tuned = RandomForestRegressor(**rsearch_rf.best_params_)\n",
    "etr_tuned = ExtraTreesRegressor(**rsearch_etr.best_params_)\n",
    "lgbr = lgb.LGBMRegressor(**rsearch_lg.best_params_)\n",
    "gbr = GradientBoostingRegressor(criterion='mse')"
   ]
  },
  {
   "cell_type": "code",
   "execution_count": 78,
   "metadata": {},
   "outputs": [
    {
     "name": "stdout",
     "output_type": "stream",
     "text": [
      "RMSE on train data:  1044.6397594698788\n",
      "R^2 on train data:  0.6316553012202342\n",
      "RMSE on test data:  1056.1940843769303\n",
      "R^2 on test data:  0.6001644959964112\n"
     ]
    }
   ],
   "source": [
    "estimators = [('rf_tuned', rf_tuned),('etr_tuned',etr_tuned),('lgbr', lgbr), ('gbr',gbr)]\n",
    "\n",
    "stack1 = VotingRegressor(estimators=estimators)\n",
    "\n",
    "stack1.fit(xtrain, ytrain)\n",
    "\n",
    "ytrain_pred = stack1.predict(xtrain)\n",
    "print('RMSE on train data: ', mean_squared_error(ytrain, ytrain_pred)**0.5) \n",
    "print('R^2 on train data: ', r2_score(ytrain, ytrain_pred))\n",
    "\n",
    "ytest_pred = stack1.predict(xtest)\n",
    "print('RMSE on test data: ', mean_squared_error(ytest, ytest_pred)**0.5)\n",
    "print('R^2 on test data: ', r2_score(ytest, ytest_pred))\n"
   ]
  }
 ],
 "metadata": {
  "kernelspec": {
   "display_name": "Python 3",
   "language": "python",
   "name": "python3"
  },
  "language_info": {
   "codemirror_mode": {
    "name": "ipython",
    "version": 3
   },
   "file_extension": ".py",
   "mimetype": "text/x-python",
   "name": "python",
   "nbconvert_exporter": "python",
   "pygments_lexer": "ipython3",
   "version": "3.7.9"
  }
 },
 "nbformat": 4,
 "nbformat_minor": 4
}
